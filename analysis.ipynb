{
 "cells": [
  {
   "cell_type": "markdown",
   "metadata": {},
   "source": [
    "(Remember to add a cover page that includes the title of your contribution, the members of your group, and the name of your major.)\n",
    "\n",
    "# Visualizing the Impact of Lifestyle on Stroke Risk\n",
    "\n",
    "## 1. Introduction \n",
    "\n",
    "### 1.1 Brief Context of Stroke as a Global Health Issue\n",
    "\n",
    "Stroke remains a leading cause of death worldwide, with an increasing burden in lower-income countries. The [World Stroke Organization](https://www.world-stroke.org/news-and-blog/news/wso-global-stroke-fact-sheet-2022) reports a 70.0% increase in stroke incidents and a 43.0% increase in stroke-related deaths from 1990 to 2019, emphasizing the urgent need for effective stroke prevention and management strategies.\n",
    "\n",
    "### 1.2 Problem Statement: Analyzing Lifestyle and Stroke Risk\n",
    "\n",
    "**Problem Statement:** In this project, we aim to explore the relationship between lifestyle choices and the probability of stroke. Our goal is to visualize how healthy and unhealthy habits, along with other factors, contribute to an individual's risk of experiencing a stroke. This involves analyzing data on various health indicators, such as age, hypertension, heart disease, glucose levels, BMI, and smoking status, to discern patterns that may predict stroke likelihood.\n",
    "\n",
    "**Objective:** By creating a comprehensive visualization of these relationships, we aim to enhance understanding of stroke risk factors and support the development of targeted prevention strategies.\n",
    "\n",
    "### 1.3 Questions and Assumptions\n",
    "\n",
    "- **Questions:**\n",
    "  1. How do different lifestyle choices impact the risk of stroke?\n",
    "  2. Which factors are the most significant predictors of stroke?\n",
    "  3. Can we identify specific patterns or trends among high-risk individuals?\n",
    "  4. Does age have an impact on strokes? \n",
    "  5. Do body mass index and glucose level have an impact on strokes?\n",
    "\n",
    "- **Assumptions:**\n",
    "  1. Lifestyle factors such as diet, exercise, and smoking significantly impact stroke risk.\n",
    "  2. Demographic factors like age and gender also play a crucial role in determining stroke likelihood.\n",
    "  3. Data visualization can effectively communicate complex relationships between multiple risk factors and stroke probability.\n",
    "\n",
    "Our approach integrates analysis and visualization techniques to provide insights into how lifestyle choices affect stroke risk. We will use the Stroke Prediction Dataset, ensuring strict adherence to data privacy standards. This project not only aligns with our academic focus in Santé Biotech and Cybersecurity but also addresses a critical healthcare challenge. Through this endeavor, we aim to contribute to the understanding of stroke prevention and the broader discussion on healthcare data analytics and privacy.\n",
    "\n",
    "### 1.4 Formalization of the Problem\n",
    "\n",
    "**Problem Type:** Classification, i.e., given the input variables, can we predict the likelihood of a stroke? (Yes/No)\n",
    "\n",
    "In the current dataset, there are 11 features and one binary target variable (stroke). The features are as follows:\n",
    "\n",
    "| Field             | Description                                                                 |\n",
    "|-------------------|-----------------------------------------------------------------------------|\n",
    "| id                | Unique identifier                                                           |\n",
    "| gender            | \"Male\", \"Female\" or \"Other\"                                                 |\n",
    "| age               | Age of the patient                                                          |\n",
    "| hypertension      | 0 if the patient doesn't have hypertension, 1 if the patient has hypertension |\n",
    "| heart_disease     | 0 if the patient doesn't have any heart diseases, 1 if the patient has a heart disease |\n",
    "| ever_married      | \"No\" or \"Yes\"                                                               |\n",
    "| work_type         | \"children\", \"Govt_job\", \"Never_worked\", \"Private\" or \"Self-employed\"        |\n",
    "| Residence_type    | \"Rural\" or \"Urban\"                                                          |\n",
    "| avg_glucose_level | Average glucose level in blood                                              |\n",
    "| bmi               | Body mass index                                                             |\n",
    "| smoking_status    | \"formerly smoked\", \"never smoked\", \"smokes\" or \"Unknown\"*                   |\n",
    "| stroke            | 1 if the patient had a stroke or 0 if not                                   |\n",
    "\n",
    "\\*Note: \"Unknown\" in smoking_status means that the information is unavailable for this patient\n",
    "\n",
    "### 1.5 Libraries and Tools"
   ]
  },
  {
   "cell_type": "code",
   "execution_count": 192,
   "metadata": {},
   "outputs": [
    {
     "name": "stdout",
     "output_type": "stream",
     "text": [
      "Note: you may need to restart the kernel to use updated packages.Requirement already satisfied: matplotlib in c:\\users\\cryte\\hub\\programming\\languages\\python\\python311\\lib\\site-packages (3.8.0)\n",
      "Requirement already satisfied: contourpy>=1.0.1 in c:\\users\\cryte\\hub\\programming\\languages\\python\\python311\\lib\\site-packages (from matplotlib) (1.1.1)\n",
      "Requirement already satisfied: cycler>=0.10 in c:\\users\\cryte\\hub\\programming\\languages\\python\\python311\\lib\\site-packages (from matplotlib) (0.12.1)\n",
      "Requirement already satisfied: fonttools>=4.22.0 in c:\\users\\cryte\\hub\\programming\\languages\\python\\python311\\lib\\site-packages (from matplotlib) (4.43.1)\n",
      "Requirement already satisfied: kiwisolver>=1.0.1 in c:\\users\\cryte\\hub\\programming\\languages\\python\\python311\\lib\\site-packages (from matplotlib) (1.4.5)\n",
      "Requirement already satisfied: numpy<2,>=1.21 in c:\\users\\cryte\\hub\\programming\\languages\\python\\python311\\lib\\site-packages (from matplotlib) (1.26.0)\n",
      "Requirement already satisfied: packaging>=20.0 in c:\\users\\cryte\\appdata\\roaming\\python\\python311\\site-packages (from matplotlib) (23.2)\n",
      "Requirement already satisfied: pillow>=6.2.0 in c:\\users\\cryte\\hub\\programming\\languages\\python\\python311\\lib\\site-packages (from matplotlib) (10.0.1)\n",
      "Requirement already satisfied: pyparsing>=2.3.1 in c:\\users\\cryte\\hub\\programming\\languages\\python\\python311\\lib\\site-packages (from matplotlib) (3.1.1)\n",
      "Requirement already satisfied: python-dateutil>=2.7 in c:\\users\\cryte\\appdata\\roaming\\python\\python311\\site-packages (from matplotlib) (2.8.2)\n",
      "Requirement already satisfied: six>=1.5 in c:\\users\\cryte\\appdata\\roaming\\python\\python311\\site-packages (from python-dateutil>=2.7->matplotlib) (1.16.0)\n",
      "\n"
     ]
    },
    {
     "name": "stderr",
     "output_type": "stream",
     "text": [
      "\n",
      "[notice] A new release of pip is available: 23.3.1 -> 23.3.2\n",
      "[notice] To update, run: python.exe -m pip install --upgrade pip\n"
     ]
    },
    {
     "name": "stdout",
     "output_type": "stream",
     "text": [
      "Requirement already satisfied: scikit-learn in c:\\users\\cryte\\hub\\programming\\languages\\python\\python311\\lib\\site-packages (1.3.1)\n",
      "Requirement already satisfied: numpy<2.0,>=1.17.3 in c:\\users\\cryte\\hub\\programming\\languages\\python\\python311\\lib\\site-packages (from scikit-learn) (1.26.0)\n",
      "Requirement already satisfied: scipy>=1.5.0 in c:\\users\\cryte\\hub\\programming\\languages\\python\\python311\\lib\\site-packages (from scikit-learn) (1.11.3)\n",
      "Requirement already satisfied: joblib>=1.1.1 in c:\\users\\cryte\\hub\\programming\\languages\\python\\python311\\lib\\site-packages (from scikit-learn) (1.3.2)\n",
      "Requirement already satisfied: threadpoolctl>=2.0.0 in c:\\users\\cryte\\hub\\programming\\languages\\python\\python311\\lib\\site-packages (from scikit-learn) (3.2.0)\n",
      "Note: you may need to restart the kernel to use updated packages.\n"
     ]
    },
    {
     "name": "stderr",
     "output_type": "stream",
     "text": [
      "\n",
      "[notice] A new release of pip is available: 23.3.1 -> 23.3.2\n",
      "[notice] To update, run: python.exe -m pip install --upgrade pip\n"
     ]
    },
    {
     "name": "stdout",
     "output_type": "stream",
     "text": [
      "Requirement already satisfied: pywaffle in c:\\users\\cryte\\hub\\programming\\languages\\python\\python311\\lib\\site-packages (1.1.0)\n",
      "Requirement already satisfied: fontawesomefree in c:\\users\\cryte\\hub\\programming\\languages\\python\\python311\\lib\\site-packages (from pywaffle) (6.5.1)\n",
      "Requirement already satisfied: matplotlib in c:\\users\\cryte\\hub\\programming\\languages\\python\\python311\\lib\\site-packages (from pywaffle) (3.8.0)\n",
      "Requirement already satisfied: contourpy>=1.0.1 in c:\\users\\cryte\\hub\\programming\\languages\\python\\python311\\lib\\site-packages (from matplotlib->pywaffle) (1.1.1)\n",
      "Requirement already satisfied: cycler>=0.10 in c:\\users\\cryte\\hub\\programming\\languages\\python\\python311\\lib\\site-packages (from matplotlib->pywaffle) (0.12.1)\n",
      "Requirement already satisfied: fonttools>=4.22.0 in c:\\users\\cryte\\hub\\programming\\languages\\python\\python311\\lib\\site-packages (from matplotlib->pywaffle) (4.43.1)\n",
      "Requirement already satisfied: kiwisolver>=1.0.1 in c:\\users\\cryte\\hub\\programming\\languages\\python\\python311\\lib\\site-packages (from matplotlib->pywaffle) (1.4.5)\n",
      "Requirement already satisfied: numpy<2,>=1.21 in c:\\users\\cryte\\hub\\programming\\languages\\python\\python311\\lib\\site-packages (from matplotlib->pywaffle) (1.26.0)\n",
      "Requirement already satisfied: packaging>=20.0 in c:\\users\\cryte\\appdata\\roaming\\python\\python311\\site-packages (from matplotlib->pywaffle) (23.2)\n",
      "Requirement already satisfied: pillow>=6.2.0 in c:\\users\\cryte\\hub\\programming\\languages\\python\\python311\\lib\\site-packages (from matplotlib->pywaffle) (10.0.1)\n",
      "Requirement already satisfied: pyparsing>=2.3.1 in c:\\users\\cryte\\hub\\programming\\languages\\python\\python311\\lib\\site-packages (from matplotlib->pywaffle) (3.1.1)\n",
      "Requirement already satisfied: python-dateutil>=2.7 in c:\\users\\cryte\\appdata\\roaming\\python\\python311\\site-packages (from matplotlib->pywaffle) (2.8.2)\n",
      "Requirement already satisfied: six>=1.5 in c:\\users\\cryte\\appdata\\roaming\\python\\python311\\site-packages (from python-dateutil>=2.7->matplotlib->pywaffle) (1.16.0)\n",
      "Note: you may need to restart the kernel to use updated packages.\n"
     ]
    },
    {
     "name": "stderr",
     "output_type": "stream",
     "text": [
      "\n",
      "[notice] A new release of pip is available: 23.3.1 -> 23.3.2\n",
      "[notice] To update, run: python.exe -m pip install --upgrade pip\n"
     ]
    },
    {
     "name": "stdout",
     "output_type": "stream",
     "text": [
      "Requirement already satisfied: imblearn in c:\\users\\cryte\\hub\\programming\\languages\\python\\python311\\lib\\site-packages (0.0)\n",
      "Requirement already satisfied: imbalanced-learn in c:\\users\\cryte\\hub\\programming\\languages\\python\\python311\\lib\\site-packages (from imblearn) (0.11.0)\n",
      "Requirement already satisfied: numpy>=1.17.3 in c:\\users\\cryte\\hub\\programming\\languages\\python\\python311\\lib\\site-packages (from imbalanced-learn->imblearn) (1.26.0)\n",
      "Requirement already satisfied: scipy>=1.5.0 in c:\\users\\cryte\\hub\\programming\\languages\\python\\python311\\lib\\site-packages (from imbalanced-learn->imblearn) (1.11.3)\n",
      "Requirement already satisfied: scikit-learn>=1.0.2 in c:\\users\\cryte\\hub\\programming\\languages\\python\\python311\\lib\\site-packages (from imbalanced-learn->imblearn) (1.3.1)\n",
      "Requirement already satisfied: joblib>=1.1.1 in c:\\users\\cryte\\hub\\programming\\languages\\python\\python311\\lib\\site-packages (from imbalanced-learn->imblearn) (1.3.2)\n",
      "Requirement already satisfied: threadpoolctl>=2.0.0 in c:\\users\\cryte\\hub\\programming\\languages\\python\\python311\\lib\\site-packages (from imbalanced-learn->imblearn) (3.2.0)\n",
      "Note: you may need to restart the kernel to use updated packages.\n"
     ]
    },
    {
     "name": "stderr",
     "output_type": "stream",
     "text": [
      "\n",
      "[notice] A new release of pip is available: 23.3.1 -> 23.3.2\n",
      "[notice] To update, run: python.exe -m pip install --upgrade pip\n"
     ]
    },
    {
     "name": "stdout",
     "output_type": "stream",
     "text": [
      "Requirement already satisfied: xgboost in c:\\users\\cryte\\hub\\programming\\languages\\python\\python311\\lib\\site-packages (2.0.3)\n",
      "Requirement already satisfied: numpy in c:\\users\\cryte\\hub\\programming\\languages\\python\\python311\\lib\\site-packages (from xgboost) (1.26.0)\n",
      "Requirement already satisfied: scipy in c:\\users\\cryte\\hub\\programming\\languages\\python\\python311\\lib\\site-packages (from xgboost) (1.11.3)\n",
      "Note: you may need to restart the kernel to use updated packages.\n"
     ]
    },
    {
     "name": "stderr",
     "output_type": "stream",
     "text": [
      "\n",
      "[notice] A new release of pip is available: 23.3.1 -> 23.3.2\n",
      "[notice] To update, run: python.exe -m pip install --upgrade pip\n"
     ]
    },
    {
     "name": "stdout",
     "output_type": "stream",
     "text": [
      "Requirement already satisfied: pandas in c:\\users\\cryte\\hub\\programming\\languages\\python\\python311\\lib\\site-packages (2.1.1)Note: you may need to restart the kernel to use updated packages.\n"
     ]
    },
    {
     "name": "stderr",
     "output_type": "stream",
     "text": [
      "\n",
      "[notice] A new release of pip is available: 23.3.1 -> 23.3.2\n",
      "[notice] To update, run: python.exe -m pip install --upgrade pip\n"
     ]
    },
    {
     "name": "stdout",
     "output_type": "stream",
     "text": [
      "\n",
      "Requirement already satisfied: numpy>=1.23.2 in c:\\users\\cryte\\hub\\programming\\languages\\python\\python311\\lib\\site-packages (from pandas) (1.26.0)\n",
      "Requirement already satisfied: python-dateutil>=2.8.2 in c:\\users\\cryte\\appdata\\roaming\\python\\python311\\site-packages (from pandas) (2.8.2)\n",
      "Requirement already satisfied: pytz>=2020.1 in c:\\users\\cryte\\hub\\programming\\languages\\python\\python311\\lib\\site-packages (from pandas) (2023.3.post1)\n",
      "Requirement already satisfied: tzdata>=2022.1 in c:\\users\\cryte\\hub\\programming\\languages\\python\\python311\\lib\\site-packages (from pandas) (2023.3)\n",
      "Requirement already satisfied: six>=1.5 in c:\\users\\cryte\\appdata\\roaming\\python\\python311\\site-packages (from python-dateutil>=2.8.2->pandas) (1.16.0)\n",
      "Requirement already satisfied: diffprivlib in c:\\users\\cryte\\hub\\programming\\languages\\python\\python311\\lib\\site-packages (0.6.3)\n",
      "Requirement already satisfied: numpy>=1.21.6 in c:\\users\\cryte\\hub\\programming\\languages\\python\\python311\\lib\\site-packages (from diffprivlib) (1.26.0)\n",
      "Requirement already satisfied: scikit-learn>=0.24.2 in c:\\users\\cryte\\hub\\programming\\languages\\python\\python311\\lib\\site-packages (from diffprivlib) (1.3.1)\n",
      "Requirement already satisfied: scipy>=1.7.3 in c:\\users\\cryte\\hub\\programming\\languages\\python\\python311\\lib\\site-packages (from diffprivlib) (1.11.3)\n",
      "Requirement already satisfied: joblib>=0.16.0 in c:\\users\\cryte\\hub\\programming\\languages\\python\\python311\\lib\\site-packages (from diffprivlib) (1.3.2)\n",
      "Requirement already satisfied: setuptools>=49.0.0 in c:\\users\\cryte\\hub\\programming\\languages\\python\\python311\\lib\\site-packages (from diffprivlib) (65.5.0)\n",
      "Requirement already satisfied: threadpoolctl>=2.0.0 in c:\\users\\cryte\\hub\\programming\\languages\\python\\python311\\lib\\site-packages (from scikit-learn>=0.24.2->diffprivlib) (3.2.0)\n",
      "Note: you may need to restart the kernel to use updated packages.\n"
     ]
    },
    {
     "name": "stderr",
     "output_type": "stream",
     "text": [
      "\n",
      "[notice] A new release of pip is available: 23.3.1 -> 23.3.2\n",
      "[notice] To update, run: python.exe -m pip install --upgrade pip\n"
     ]
    },
    {
     "name": "stdout",
     "output_type": "stream",
     "text": [
      "Requirement already satisfied: seaborn in c:\\users\\cryte\\hub\\programming\\languages\\python\\python311\\lib\\site-packages (0.13.0)\n",
      "Requirement already satisfied: numpy!=1.24.0,>=1.20 in c:\\users\\cryte\\hub\\programming\\languages\\python\\python311\\lib\\site-packages (from seaborn) (1.26.0)\n",
      "Requirement already satisfied: pandas>=1.2 in c:\\users\\cryte\\hub\\programming\\languages\\python\\python311\\lib\\site-packages (from seaborn) (2.1.1)\n",
      "Requirement already satisfied: matplotlib!=3.6.1,>=3.3 in c:\\users\\cryte\\hub\\programming\\languages\\python\\python311\\lib\\site-packages (from seaborn) (3.8.0)\n",
      "Requirement already satisfied: contourpy>=1.0.1 in c:\\users\\cryte\\hub\\programming\\languages\\python\\python311\\lib\\site-packages (from matplotlib!=3.6.1,>=3.3->seaborn) (1.1.1)\n",
      "Requirement already satisfied: cycler>=0.10 in c:\\users\\cryte\\hub\\programming\\languages\\python\\python311\\lib\\site-packages (from matplotlib!=3.6.1,>=3.3->seaborn) (0.12.1)\n",
      "Requirement already satisfied: fonttools>=4.22.0 in c:\\users\\cryte\\hub\\programming\\languages\\python\\python311\\lib\\site-packages (from matplotlib!=3.6.1,>=3.3->seaborn) (4.43.1)\n",
      "Requirement already satisfied: kiwisolver>=1.0.1 in c:\\users\\cryte\\hub\\programming\\languages\\python\\python311\\lib\\site-packages (from matplotlib!=3.6.1,>=3.3->seaborn) (1.4.5)\n",
      "Requirement already satisfied: packaging>=20.0 in c:\\users\\cryte\\appdata\\roaming\\python\\python311\\site-packages (from matplotlib!=3.6.1,>=3.3->seaborn) (23.2)\n",
      "Requirement already satisfied: pillow>=6.2.0 in c:\\users\\cryte\\hub\\programming\\languages\\python\\python311\\lib\\site-packages (from matplotlib!=3.6.1,>=3.3->seaborn) (10.0.1)\n",
      "Requirement already satisfied: pyparsing>=2.3.1 in c:\\users\\cryte\\hub\\programming\\languages\\python\\python311\\lib\\site-packages (from matplotlib!=3.6.1,>=3.3->seaborn) (3.1.1)\n",
      "Requirement already satisfied: python-dateutil>=2.7 in c:\\users\\cryte\\appdata\\roaming\\python\\python311\\site-packages (from matplotlib!=3.6.1,>=3.3->seaborn) (2.8.2)\n",
      "Requirement already satisfied: pytz>=2020.1 in c:\\users\\cryte\\hub\\programming\\languages\\python\\python311\\lib\\site-packages (from pandas>=1.2->seaborn) (2023.3.post1)\n",
      "Requirement already satisfied: tzdata>=2022.1 in c:\\users\\cryte\\hub\\programming\\languages\\python\\python311\\lib\\site-packages (from pandas>=1.2->seaborn) (2023.3)\n",
      "Requirement already satisfied: six>=1.5 in c:\\users\\cryte\\appdata\\roaming\\python\\python311\\site-packages (from python-dateutil>=2.7->matplotlib!=3.6.1,>=3.3->seaborn) (1.16.0)\n",
      "Note: you may need to restart the kernel to use updated packages.\n"
     ]
    },
    {
     "name": "stderr",
     "output_type": "stream",
     "text": [
      "\n",
      "[notice] A new release of pip is available: 23.3.1 -> 23.3.2\n",
      "[notice] To update, run: python.exe -m pip install --upgrade pip\n"
     ]
    },
    {
     "name": "stdout",
     "output_type": "stream",
     "text": [
      "Requirement already satisfied: graphviz in c:\\users\\cryte\\hub\\programming\\languages\\python\\python311\\lib\\site-packages (0.20.1)\n",
      "Note: you may need to restart the kernel to use updated packages.\n"
     ]
    },
    {
     "name": "stderr",
     "output_type": "stream",
     "text": [
      "\n",
      "[notice] A new release of pip is available: 23.3.1 -> 23.3.2\n",
      "[notice] To update, run: python.exe -m pip install --upgrade pip\n"
     ]
    }
   ],
   "source": [
    "%pip install matplotlib\n",
    "%pip install scikit-learn\n",
    "%pip install pywaffle\n",
    "%pip install imblearn\n",
    "%pip install xgboost\n",
    "%pip install pandas\n",
    "%pip install diffprivlib\n",
    "%pip install seaborn\n",
    "%pip install graphviz"
   ]
  },
  {
   "cell_type": "code",
   "execution_count": 193,
   "metadata": {},
   "outputs": [],
   "source": [
    "import pandas as pd\n",
    "import matplotlib.pyplot as plt\n",
    "\n",
    "# Machine Learning Helpers\n",
    "from sklearn.metrics import (confusion_matrix, classification_report)\n",
    "from sklearn.model_selection import train_test_split\n",
    "from sklearn.ensemble import RandomForestClassifier \n",
    "\n",
    "# Machine Learning Models\n",
    "from sklearn.ensemble import RandomForestClassifier\n",
    "from xgboost import XGBClassifier\n",
    "\n",
    "# Visualization\n",
    "from pywaffle import Waffle\n",
    "\n",
    "# Dealing with imbalance dataset\n",
    "from imblearn.over_sampling import SMOTE"
   ]
  },
  {
   "cell_type": "markdown",
   "metadata": {},
   "source": [
    "## 2. Data exploration\n",
    "\n",
    "### 2.1 Loading the data\n",
    "\n",
    "We start by loading the data into a pandas dataframe."
   ]
  },
  {
   "cell_type": "code",
   "execution_count": 194,
   "metadata": {},
   "outputs": [],
   "source": [
    "df = pd.read_csv('./_dataset/healthcare-dataset-stroke-data.csv', sep=',', encoding='utf-8')"
   ]
  },
  {
   "cell_type": "code",
   "execution_count": 195,
   "metadata": {},
   "outputs": [
    {
     "data": {
      "text/html": [
       "<div>\n",
       "<style scoped>\n",
       "    .dataframe tbody tr th:only-of-type {\n",
       "        vertical-align: middle;\n",
       "    }\n",
       "\n",
       "    .dataframe tbody tr th {\n",
       "        vertical-align: top;\n",
       "    }\n",
       "\n",
       "    .dataframe thead th {\n",
       "        text-align: right;\n",
       "    }\n",
       "</style>\n",
       "<table border=\"1\" class=\"dataframe\">\n",
       "  <thead>\n",
       "    <tr style=\"text-align: right;\">\n",
       "      <th></th>\n",
       "      <th>id</th>\n",
       "      <th>gender</th>\n",
       "      <th>age</th>\n",
       "      <th>hypertension</th>\n",
       "      <th>heart_disease</th>\n",
       "      <th>ever_married</th>\n",
       "      <th>work_type</th>\n",
       "      <th>Residence_type</th>\n",
       "      <th>avg_glucose_level</th>\n",
       "      <th>bmi</th>\n",
       "      <th>smoking_status</th>\n",
       "      <th>stroke</th>\n",
       "    </tr>\n",
       "  </thead>\n",
       "  <tbody>\n",
       "    <tr>\n",
       "      <th>0</th>\n",
       "      <td>9046</td>\n",
       "      <td>Male</td>\n",
       "      <td>67.0</td>\n",
       "      <td>0</td>\n",
       "      <td>1</td>\n",
       "      <td>Yes</td>\n",
       "      <td>Private</td>\n",
       "      <td>Urban</td>\n",
       "      <td>228.69</td>\n",
       "      <td>36.6</td>\n",
       "      <td>formerly smoked</td>\n",
       "      <td>1</td>\n",
       "    </tr>\n",
       "    <tr>\n",
       "      <th>1</th>\n",
       "      <td>51676</td>\n",
       "      <td>Female</td>\n",
       "      <td>61.0</td>\n",
       "      <td>0</td>\n",
       "      <td>0</td>\n",
       "      <td>Yes</td>\n",
       "      <td>Self-employed</td>\n",
       "      <td>Rural</td>\n",
       "      <td>202.21</td>\n",
       "      <td>NaN</td>\n",
       "      <td>never smoked</td>\n",
       "      <td>1</td>\n",
       "    </tr>\n",
       "    <tr>\n",
       "      <th>2</th>\n",
       "      <td>31112</td>\n",
       "      <td>Male</td>\n",
       "      <td>80.0</td>\n",
       "      <td>0</td>\n",
       "      <td>1</td>\n",
       "      <td>Yes</td>\n",
       "      <td>Private</td>\n",
       "      <td>Rural</td>\n",
       "      <td>105.92</td>\n",
       "      <td>32.5</td>\n",
       "      <td>never smoked</td>\n",
       "      <td>1</td>\n",
       "    </tr>\n",
       "    <tr>\n",
       "      <th>3</th>\n",
       "      <td>60182</td>\n",
       "      <td>Female</td>\n",
       "      <td>49.0</td>\n",
       "      <td>0</td>\n",
       "      <td>0</td>\n",
       "      <td>Yes</td>\n",
       "      <td>Private</td>\n",
       "      <td>Urban</td>\n",
       "      <td>171.23</td>\n",
       "      <td>34.4</td>\n",
       "      <td>smokes</td>\n",
       "      <td>1</td>\n",
       "    </tr>\n",
       "    <tr>\n",
       "      <th>4</th>\n",
       "      <td>1665</td>\n",
       "      <td>Female</td>\n",
       "      <td>79.0</td>\n",
       "      <td>1</td>\n",
       "      <td>0</td>\n",
       "      <td>Yes</td>\n",
       "      <td>Self-employed</td>\n",
       "      <td>Rural</td>\n",
       "      <td>174.12</td>\n",
       "      <td>24.0</td>\n",
       "      <td>never smoked</td>\n",
       "      <td>1</td>\n",
       "    </tr>\n",
       "  </tbody>\n",
       "</table>\n",
       "</div>"
      ],
      "text/plain": [
       "      id  gender   age  hypertension  heart_disease ever_married  \\\n",
       "0   9046    Male  67.0             0              1          Yes   \n",
       "1  51676  Female  61.0             0              0          Yes   \n",
       "2  31112    Male  80.0             0              1          Yes   \n",
       "3  60182  Female  49.0             0              0          Yes   \n",
       "4   1665  Female  79.0             1              0          Yes   \n",
       "\n",
       "       work_type Residence_type  avg_glucose_level   bmi   smoking_status  \\\n",
       "0        Private          Urban             228.69  36.6  formerly smoked   \n",
       "1  Self-employed          Rural             202.21   NaN     never smoked   \n",
       "2        Private          Rural             105.92  32.5     never smoked   \n",
       "3        Private          Urban             171.23  34.4           smokes   \n",
       "4  Self-employed          Rural             174.12  24.0     never smoked   \n",
       "\n",
       "   stroke  \n",
       "0       1  \n",
       "1       1  \n",
       "2       1  \n",
       "3       1  \n",
       "4       1  "
      ]
     },
     "execution_count": 195,
     "metadata": {},
     "output_type": "execute_result"
    }
   ],
   "source": [
    "df.head()"
   ]
  },
  {
   "cell_type": "markdown",
   "metadata": {},
   "source": [
    "We can already see that some of the rows hold some NaN values ... we will have to deal with that later."
   ]
  },
  {
   "cell_type": "markdown",
   "metadata": {},
   "source": [
    "### 2.2 Data exploration"
   ]
  },
  {
   "cell_type": "markdown",
   "metadata": {},
   "source": [
    "Let's now get a closer look at the data we have."
   ]
  },
  {
   "cell_type": "code",
   "execution_count": 196,
   "metadata": {},
   "outputs": [
    {
     "name": "stdout",
     "output_type": "stream",
     "text": [
      "<class 'pandas.core.frame.DataFrame'>\n",
      "RangeIndex: 5110 entries, 0 to 5109\n",
      "Data columns (total 12 columns):\n",
      " #   Column             Non-Null Count  Dtype  \n",
      "---  ------             --------------  -----  \n",
      " 0   id                 5110 non-null   int64  \n",
      " 1   gender             5110 non-null   object \n",
      " 2   age                5110 non-null   float64\n",
      " 3   hypertension       5110 non-null   int64  \n",
      " 4   heart_disease      5110 non-null   int64  \n",
      " 5   ever_married       5110 non-null   object \n",
      " 6   work_type          5110 non-null   object \n",
      " 7   Residence_type     5110 non-null   object \n",
      " 8   avg_glucose_level  5110 non-null   float64\n",
      " 9   bmi                4909 non-null   float64\n",
      " 10  smoking_status     5110 non-null   object \n",
      " 11  stroke             5110 non-null   int64  \n",
      "dtypes: float64(3), int64(4), object(5)\n",
      "memory usage: 479.2+ KB\n"
     ]
    }
   ],
   "source": [
    "df.info()"
   ]
  },
  {
   "cell_type": "code",
   "execution_count": 197,
   "metadata": {},
   "outputs": [
    {
     "data": {
      "text/html": [
       "<div>\n",
       "<style scoped>\n",
       "    .dataframe tbody tr th:only-of-type {\n",
       "        vertical-align: middle;\n",
       "    }\n",
       "\n",
       "    .dataframe tbody tr th {\n",
       "        vertical-align: top;\n",
       "    }\n",
       "\n",
       "    .dataframe thead th {\n",
       "        text-align: right;\n",
       "    }\n",
       "</style>\n",
       "<table border=\"1\" class=\"dataframe\">\n",
       "  <thead>\n",
       "    <tr style=\"text-align: right;\">\n",
       "      <th></th>\n",
       "      <th>id</th>\n",
       "      <th>age</th>\n",
       "      <th>hypertension</th>\n",
       "      <th>heart_disease</th>\n",
       "      <th>avg_glucose_level</th>\n",
       "      <th>bmi</th>\n",
       "      <th>stroke</th>\n",
       "    </tr>\n",
       "  </thead>\n",
       "  <tbody>\n",
       "    <tr>\n",
       "      <th>count</th>\n",
       "      <td>5110.00</td>\n",
       "      <td>5110.00</td>\n",
       "      <td>5110.0</td>\n",
       "      <td>5110.00</td>\n",
       "      <td>5110.00</td>\n",
       "      <td>4909.00</td>\n",
       "      <td>5110.00</td>\n",
       "    </tr>\n",
       "    <tr>\n",
       "      <th>mean</th>\n",
       "      <td>36517.83</td>\n",
       "      <td>43.23</td>\n",
       "      <td>0.1</td>\n",
       "      <td>0.05</td>\n",
       "      <td>106.15</td>\n",
       "      <td>28.89</td>\n",
       "      <td>0.05</td>\n",
       "    </tr>\n",
       "    <tr>\n",
       "      <th>std</th>\n",
       "      <td>21161.72</td>\n",
       "      <td>22.61</td>\n",
       "      <td>0.3</td>\n",
       "      <td>0.23</td>\n",
       "      <td>45.28</td>\n",
       "      <td>7.85</td>\n",
       "      <td>0.22</td>\n",
       "    </tr>\n",
       "    <tr>\n",
       "      <th>min</th>\n",
       "      <td>67.00</td>\n",
       "      <td>0.08</td>\n",
       "      <td>0.0</td>\n",
       "      <td>0.00</td>\n",
       "      <td>55.12</td>\n",
       "      <td>10.30</td>\n",
       "      <td>0.00</td>\n",
       "    </tr>\n",
       "    <tr>\n",
       "      <th>25%</th>\n",
       "      <td>17741.25</td>\n",
       "      <td>25.00</td>\n",
       "      <td>0.0</td>\n",
       "      <td>0.00</td>\n",
       "      <td>77.24</td>\n",
       "      <td>23.50</td>\n",
       "      <td>0.00</td>\n",
       "    </tr>\n",
       "    <tr>\n",
       "      <th>50%</th>\n",
       "      <td>36932.00</td>\n",
       "      <td>45.00</td>\n",
       "      <td>0.0</td>\n",
       "      <td>0.00</td>\n",
       "      <td>91.88</td>\n",
       "      <td>28.10</td>\n",
       "      <td>0.00</td>\n",
       "    </tr>\n",
       "    <tr>\n",
       "      <th>75%</th>\n",
       "      <td>54682.00</td>\n",
       "      <td>61.00</td>\n",
       "      <td>0.0</td>\n",
       "      <td>0.00</td>\n",
       "      <td>114.09</td>\n",
       "      <td>33.10</td>\n",
       "      <td>0.00</td>\n",
       "    </tr>\n",
       "    <tr>\n",
       "      <th>max</th>\n",
       "      <td>72940.00</td>\n",
       "      <td>82.00</td>\n",
       "      <td>1.0</td>\n",
       "      <td>1.00</td>\n",
       "      <td>271.74</td>\n",
       "      <td>97.60</td>\n",
       "      <td>1.00</td>\n",
       "    </tr>\n",
       "  </tbody>\n",
       "</table>\n",
       "</div>"
      ],
      "text/plain": [
       "             id      age  hypertension  heart_disease  avg_glucose_level  \\\n",
       "count   5110.00  5110.00        5110.0        5110.00            5110.00   \n",
       "mean   36517.83    43.23           0.1           0.05             106.15   \n",
       "std    21161.72    22.61           0.3           0.23              45.28   \n",
       "min       67.00     0.08           0.0           0.00              55.12   \n",
       "25%    17741.25    25.00           0.0           0.00              77.24   \n",
       "50%    36932.00    45.00           0.0           0.00              91.88   \n",
       "75%    54682.00    61.00           0.0           0.00             114.09   \n",
       "max    72940.00    82.00           1.0           1.00             271.74   \n",
       "\n",
       "           bmi   stroke  \n",
       "count  4909.00  5110.00  \n",
       "mean     28.89     0.05  \n",
       "std       7.85     0.22  \n",
       "min      10.30     0.00  \n",
       "25%      23.50     0.00  \n",
       "50%      28.10     0.00  \n",
       "75%      33.10     0.00  \n",
       "max      97.60     1.00  "
      ]
     },
     "execution_count": 197,
     "metadata": {},
     "output_type": "execute_result"
    }
   ],
   "source": [
    "# Stats of numerical features\n",
    "round(df.describe(), 2)"
   ]
  },
  {
   "cell_type": "code",
   "execution_count": 198,
   "metadata": {},
   "outputs": [
    {
     "data": {
      "text/html": [
       "<div>\n",
       "<style scoped>\n",
       "    .dataframe tbody tr th:only-of-type {\n",
       "        vertical-align: middle;\n",
       "    }\n",
       "\n",
       "    .dataframe tbody tr th {\n",
       "        vertical-align: top;\n",
       "    }\n",
       "\n",
       "    .dataframe thead th {\n",
       "        text-align: right;\n",
       "    }\n",
       "</style>\n",
       "<table border=\"1\" class=\"dataframe\">\n",
       "  <thead>\n",
       "    <tr style=\"text-align: right;\">\n",
       "      <th></th>\n",
       "      <th>gender</th>\n",
       "      <th>ever_married</th>\n",
       "      <th>work_type</th>\n",
       "      <th>Residence_type</th>\n",
       "      <th>smoking_status</th>\n",
       "    </tr>\n",
       "  </thead>\n",
       "  <tbody>\n",
       "    <tr>\n",
       "      <th>count</th>\n",
       "      <td>5110</td>\n",
       "      <td>5110</td>\n",
       "      <td>5110</td>\n",
       "      <td>5110</td>\n",
       "      <td>5110</td>\n",
       "    </tr>\n",
       "    <tr>\n",
       "      <th>unique</th>\n",
       "      <td>3</td>\n",
       "      <td>2</td>\n",
       "      <td>5</td>\n",
       "      <td>2</td>\n",
       "      <td>4</td>\n",
       "    </tr>\n",
       "    <tr>\n",
       "      <th>top</th>\n",
       "      <td>Female</td>\n",
       "      <td>Yes</td>\n",
       "      <td>Private</td>\n",
       "      <td>Urban</td>\n",
       "      <td>never smoked</td>\n",
       "    </tr>\n",
       "    <tr>\n",
       "      <th>freq</th>\n",
       "      <td>2994</td>\n",
       "      <td>3353</td>\n",
       "      <td>2925</td>\n",
       "      <td>2596</td>\n",
       "      <td>1892</td>\n",
       "    </tr>\n",
       "  </tbody>\n",
       "</table>\n",
       "</div>"
      ],
      "text/plain": [
       "        gender ever_married work_type Residence_type smoking_status\n",
       "count     5110         5110      5110           5110           5110\n",
       "unique       3            2         5              2              4\n",
       "top     Female          Yes   Private          Urban   never smoked\n",
       "freq      2994         3353      2925           2596           1892"
      ]
     },
     "execution_count": 198,
     "metadata": {},
     "output_type": "execute_result"
    }
   ],
   "source": [
    "# Stats of categorical features\n",
    "round(df.describe(include=['O']), 2)"
   ]
  },
  {
   "cell_type": "markdown",
   "metadata": {},
   "source": [
    "Next, we'll examine the distribution of BMI values in the dataset, as this feature contains some missing values. This analysis will guide our decision on how to handle these missing values - we can either replace them with the mean or the median of the BMI values.\n",
    "\n",
    "If the distribution is centered around the mean, we'll use the mean to fill in the missing values. On the other hand, if there are outliers, we'll use the median to avoid introducing bias into the data."
   ]
  },
  {
   "cell_type": "code",
   "execution_count": 199,
   "metadata": {},
   "outputs": [
    {
     "data": {
      "image/png": "[encoded data removed]",
      "text/plain": [
       "<Figure size 640x480 with 1 Axes>"
      ]
     },
     "metadata": {},
     "output_type": "display_data"
    }
   ],
   "source": [
    "# Create a histogram of the 'bmi' column\n",
    "plt.hist(df['bmi'].dropna(), bins=30, edgecolor='black')\n",
    "\n",
    "# Add the mean and median lines\n",
    "plt.axvline(df['bmi'].mean(), color='red', linestyle='dashed', linewidth=1)\n",
    "plt.axvline(df['bmi'].median(), color='green', linestyle='dashed', linewidth=1)\n",
    "\n",
    "# Add a legend\n",
    "plt.legend({'Mean':df['bmi'].mean(),'Median':df['bmi'].median()})\n",
    "\n",
    "# Add a title and labels \n",
    "plt.title(\"BMI Distribution\")\n",
    "plt.xlabel(\"BMI\")\n",
    "plt.ylabel(\"Frequency\")\n",
    "\n",
    "# Display the plot\n",
    "plt.show()"
   ]
  },
  {
   "cell_type": "markdown",
   "metadata": {},
   "source": [
    "Both the mean and the median are close to each other, so we can use the mean to replace the missing values."
   ]
  },
  {
   "cell_type": "markdown",
   "metadata": {},
   "source": [
    "From our analysis, we can draw several conclusions:\n",
    "\n",
    "- The dataset contains **numerical**, **categorical**, and **binary** data. \n",
    "    - The **numerical data** includes `age`, `avg_glucose_level`, and `bmi`.\n",
    "    - The **categorical data** includes `gender`, `ever_married`, `work_type`, `Residence_type`, and `smoking_status`.\n",
    "    - The **binary data** includes `hypertension`, `heart_disease`, and `stroke`.\n",
    "\n",
    "- We should focus on the **categorical data** as it will be the most interesting to visualize.\n",
    "\n",
    "- The `stroke` column, which is binary (0 or 1), is our **target variable**.\n",
    "\n",
    "- `BMI` (Body Mass Index) is a numerical value with some missing data. Instead of dropping the rows with missing data, we should fill them with the **mean value** of the column, as both the mean and the median are close to each other. \n",
    "\n",
    "- `BMI` can be traced back to someone's personal information if correlated with other data. To address this, we'll implement the model with a **continuous BMI**, and then with a **discretized BMI** to see if it drastically changes the results."
   ]
  },
  {
   "cell_type": "markdown",
   "metadata": {},
   "source": [
    "## 2.3 Filling missing values\n",
    "\n",
    "We will now fill the missing values in the `bmi` column with the mean value of the column."
   ]
  },
  {
   "cell_type": "code",
   "execution_count": 200,
   "metadata": {},
   "outputs": [
    {
     "data": {
      "text/plain": [
       "id                   0\n",
       "gender               0\n",
       "age                  0\n",
       "hypertension         0\n",
       "heart_disease        0\n",
       "ever_married         0\n",
       "work_type            0\n",
       "Residence_type       0\n",
       "avg_glucose_level    0\n",
       "bmi                  0\n",
       "smoking_status       0\n",
       "stroke               0\n",
       "dtype: int64"
      ]
     },
     "execution_count": 200,
     "metadata": {},
     "output_type": "execute_result"
    }
   ],
   "source": [
    "# Use a simple imputer to fill in the missing values with the median value of the dataset\n",
    "from sklearn.impute import SimpleImputer\n",
    "imputer = SimpleImputer(strategy='median')\n",
    "df['bmi'] = imputer.fit_transform(df[['bmi']])\n",
    "\n",
    "df.isnull().sum()"
   ]
  },
  {
   "cell_type": "markdown",
   "metadata": {},
   "source": [
    "## 3. Data analysis and visualization : solutions and arguments for the choice of the two algorithms"
   ]
  },
  {
   "cell_type": "markdown",
   "metadata": {},
   "source": [
    "The purpose of this section is to know which variable is most likely the one to influence the question \"Which parameters influence the most on having a stroke ?\" \n",
    "\n",
    "For this, we're going to do some visualization !"
   ]
  },
  {
   "cell_type": "markdown",
   "metadata": {},
   "source": [
    "### 3.1 Distribution of target variable : Healthy vs Stroke "
   ]
  },
  {
   "cell_type": "code",
   "execution_count": 201,
   "metadata": {},
   "outputs": [
    {
     "data": {
      "image/png": "[encoded data removed]",
      "text/plain": [
       "<Figure size 1600x500 with 1 Axes>"
      ]
     },
     "metadata": {},
     "output_type": "display_data"
    }
   ],
   "source": [
    "# Count the number of occurrences of each unique value in the 'stroke' column\n",
    "x = df['stroke'].value_counts()\n",
    "\n",
    "# Calculate the proportion of stroke cases in the dataset\n",
    "stroke_proportion = round(x[1]/x[0], 2)*100\n",
    "\n",
    "# Create a bar plot\n",
    "fig, ax = plt.subplots()\n",
    "\n",
    "# Plot the counts\n",
    "ax.barh(x.index, x.values, color=['#1f77b4', '#ff7f0e'])\n",
    "\n",
    "# Label the y-axis with the unique values in the 'stroke' column\n",
    "ax.set_yticks(x.index)\n",
    "ax.set_yticklabels(['Healthy', 'Stroke'])\n",
    "\n",
    "# Show the percentage above the bars\n",
    "for i, v in enumerate(x.values):\n",
    "    if i == 1:  # If the current bar corresponds to stroke cases\n",
    "        ax.text(v + 3, i, f\" {stroke_proportion}%\", color='black', fontweight='bold')\n",
    "    else:  # If the current bar corresponds to healthy cases\n",
    "        ax.text(v + 3, i, f\" {100 - stroke_proportion}%\", color='black', fontweight='bold')\n",
    "\n",
    "# Hide the x-axis\n",
    "ax.get_xaxis().set_visible(False)\n",
    "\n",
    "# Set the title\n",
    "ax.set_title('Percentage of People Having Strokes')\n",
    "\n",
    "# Increase the size to fit the text\n",
    "fig.set_size_inches(16, 5)\n",
    "\n",
    "# Show the plot\n",
    "plt.show()"
   ]
  },
  {
   "cell_type": "markdown",
   "metadata": {},
   "source": [
    "We can see about that 5 patient over 1000 has stroke. This is a heavy **umbalanced** in the dataset, that we'll have to take into consideration when we'll train our model.\n"
   ]
  },
  {
   "cell_type": "markdown",
   "metadata": {},
   "source": [
    "### 3.2 Relation between strokes and age"
   ]
  },
  {
   "cell_type": "markdown",
   "metadata": {},
   "source": [
    "In this section, we are going to look the relationship between strokes and age. To do this, we are going to look at the age group that has had the most strokes. Then we'll create labels with an age range chosen by ourselves, so that we can see which age group is most likely to have a stroke. "
   ]
  },
  {
   "cell_type": "code",
   "execution_count": 202,
   "metadata": {},
   "outputs": [
    {
     "name": "stderr",
     "output_type": "stream",
     "text": [
      "C:\\Users\\cryte\\AppData\\Local\\Temp\\ipykernel_19928\\1281848292.py:4: FutureWarning: The default of observed=False is deprecated and will be changed to True in a future version of pandas. Pass observed=False to retain current behavior or observed=True to adopt the future default and silence this warning.\n",
      "  age_stroke = df.groupby(['age_bin', 'stroke']).size().unstack(fill_value=0)\n"
     ]
    },
    {
     "data": {
      "image/png": "[encoded data removed]",
      "text/plain": [
       "<Figure size 1500x600 with 1 Axes>"
      ]
     },
     "metadata": {},
     "output_type": "display_data"
    }
   ],
   "source": [
    "# Let's create labels in order to look which category is the most concern about strokes.\n",
    "df['age_bin'] = pd.cut(df['age'], bins=[0, 13, 18, 45, 60, 1000], labels=['Child', 'Teenager', 'Adult', 'Middle-Aged', 'Elderly'])\n",
    "\n",
    "age_stroke = df.groupby(['age_bin', 'stroke']).size().unstack(fill_value=0)\n",
    "\n",
    "age_stroke_percent = age_stroke.div(age_stroke.sum(axis=1), axis=0) * 100\n",
    "\n",
    "fig, ax = plt.subplots(figsize=(15, 6))\n",
    "age_stroke_percent.plot(kind='bar', ax=ax)\n",
    "\n",
    "plt.title('Strokes regarding age groups')\n",
    "plt.xlabel('Age Group')\n",
    "plt.ylabel('Percentage (%)')\n",
    "plt.legend(title='Stroke state', labels=['Healthy', 'Stroke'])\n",
    "\n",
    "for container in ax.containers:\n",
    "    ax.bar_label(container)\n",
    "\n",
    "plt.show()"
   ]
  },
  {
   "cell_type": "code",
   "execution_count": 203,
   "metadata": {},
   "outputs": [
    {
     "name": "stderr",
     "output_type": "stream",
     "text": [
      "C:\\Users\\cryte\\AppData\\Local\\Temp\\ipykernel_19928\\187241523.py:7: FutureWarning: \n",
      "\n",
      "`shade` is now deprecated in favor of `fill`; setting `fill=True`.\n",
      "This will become an error in seaborn v0.14.0; please update your code.\n",
      "\n",
      "  sns.kdeplot(df[df['stroke'] == 1]['age'], color=\"red\", shade=True, label='Stroke Cases')\n",
      "C:\\Users\\cryte\\AppData\\Local\\Temp\\ipykernel_19928\\187241523.py:10: FutureWarning: \n",
      "\n",
      "`shade` is now deprecated in favor of `fill`; setting `fill=True`.\n",
      "This will become an error in seaborn v0.14.0; please update your code.\n",
      "\n",
      "  sns.kdeplot(df[df['stroke'] == 0]['age'], color=\"blue\", shade=True, label='Non-Stroke Cases')\n"
     ]
    },
    {
     "data": {
      "image/png": "[encoded data removed]",
      "text/plain": [
       "<Figure size 1000x500 with 1 Axes>"
      ]
     },
     "metadata": {},
     "output_type": "display_data"
    }
   ],
   "source": [
    "import seaborn as sns\n",
    "\n",
    "# Create a graph with KDE curves for stroke cases and non-stroke cases.\n",
    "plt.figure(figsize=(10, 5))\n",
    "\n",
    "# KDE curve for stroke cases\n",
    "sns.kdeplot(df[df['stroke'] == 1]['age'], color=\"red\", shade=True, label='Stroke Cases')\n",
    "\n",
    "# KDE curve for non-stroke cases\n",
    "sns.kdeplot(df[df['stroke'] == 0]['age'], color=\"blue\", shade=True, label='Non-Stroke Cases')\n",
    "\n",
    "plt.title('Density of Stroke Cases by Age')\n",
    "plt.xlabel('Age of a person')\n",
    "plt.ylabel('Density')\n",
    "plt.legend()\n",
    "plt.show()"
   ]
  },
  {
   "cell_type": "markdown",
   "metadata": {},
   "source": [
    "### 3.3 Heart Strokes and Glucose"
   ]
  },
  {
   "cell_type": "code",
   "execution_count": 226,
   "metadata": {},
   "outputs": [
    {
     "name": "stderr",
     "output_type": "stream",
     "text": [
      "C:\\Users\\cryte\\AppData\\Local\\Temp\\ipykernel_19928\\78623111.py:5: FutureWarning: The default of observed=False is deprecated and will be changed to True in a future version of pandas. Pass observed=False to retain current behavior or observed=True to adopt the future default and silence this warning.\n",
      "  grouped = df.groupby(['avg_glucose_level_bin', 'stroke']).size().unstack(fill_value=0)\n"
     ]
    },
    {
     "data": {
      "image/png": "[encoded data removed]",
      "text/plain": [
       "<Figure size 1000x600 with 1 Axes>"
      ]
     },
     "metadata": {},
     "output_type": "display_data"
    }
   ],
   "source": [
    "df['avg_glucose_level'] = pd.to_numeric(df['avg_glucose_level'], errors='coerce')\n",
    "df['avg_glucose_level_bin'] = pd.cut(df['avg_glucose_level'], bins=[0, 90, 160, 230, 300], labels=['Low', 'Normal', 'High', 'Very High'])\n",
    "\n",
    "# Group the data by average glucose level and stroke\n",
    "grouped = df.groupby(['avg_glucose_level_bin', 'stroke']).size().unstack(fill_value=0)\n",
    "\n",
    "# Convert the counts to percentages\n",
    "grouped_percentage = grouped.div(grouped.sum(axis=1), axis=0) * 100\n",
    "\n",
    "# Create bar plots with percentages\n",
    "fig, ax = plt.subplots(figsize=(10, 6))\n",
    "grouped_percentage.plot(kind='bar', ax=ax)\n",
    "\n",
    "plt.title('Stroke by Glucose Level')\n",
    "plt.xlabel('Average Glucose Level')\n",
    "plt.ylabel('Percentage of Cases')\n",
    "plt.legend(title='Legend', labels=['Healthy', 'Stroke'])\n",
    "\n",
    "# Add values above the bars\n",
    "for i, bar in enumerate(ax.patches):\n",
    "    h = bar.get_height()\n",
    "    ax.text(bar.get_x() + bar.get_width() / 2, h, \n",
    "            f'{h:.1f}%', ha='center', va='bottom')\n",
    "\n",
    "plt.show()"
   ]
  },
  {
   "cell_type": "markdown",
   "metadata": {},
   "source": [
    "### 3.4 Heart Strokes and Hypertension"
   ]
  },
  {
   "cell_type": "code",
   "execution_count": 222,
   "metadata": {},
   "outputs": [
    {
     "data": {
      "image/png": "[encoded data removed]",
      "text/plain": [
       "<Waffle size 800x800 with 2 Axes>"
      ]
     },
     "metadata": {},
     "output_type": "display_data"
    }
   ],
   "source": [
    "# Calculate the percentage of stroke and healthy patients with and without hypertension\n",
    "stroke_hyper = df[df['stroke'] == 1]['hypertension'].value_counts()\n",
    "healthy_hyper = df[df['stroke'] == 0]['hypertension'].value_counts()\n",
    "\n",
    "no_hypertension = df['hypertension'].value_counts().values[0]\n",
    "yes_hypertension = df['hypertension'].value_counts().values[1]\n",
    "\n",
    "stroke_no = int(round(stroke_hyper.values[0] / no_hypertension * 100, 0))\n",
    "stroke_yes = int(round(stroke_hyper.values[1] / yes_hypertension * 100, 0))\n",
    "healthy_no = int(round(healthy_hyper.values[0] / no_hypertension * 100, 0))\n",
    "healthy_yes = int(round(healthy_hyper.values[1] / yes_hypertension * 100, 0))\n",
    "\n",
    "# Define common plot parameters\n",
    "common_params = {\n",
    "    'rows': 7,\n",
    "    'columns': 7,\n",
    "    'colors': ['#1f77b4', '#ff7f0e'],\n",
    "    'vertical': True,\n",
    "    'interval_ratio_x': 0.1,\n",
    "    'interval_ratio_y': 0.1,\n",
    "    'plot_anchor': 'C',\n",
    "    'alpha': 0.1,\n",
    "    'starting_location': 'SE'\n",
    "}\n",
    "\n",
    "# Create the figure with two subplots\n",
    "fig = plt.figure(FigureClass=Waffle, \n",
    "                 constrained_layout=True,\n",
    "                 figsize=(8, 8),\n",
    "                 facecolor='#f6f5f5',\n",
    "                 dpi=100,\n",
    "                 tight=True,\n",
    "                 plots={\n",
    "                     121: {**common_params, 'values': [healthy_yes, stroke_yes]},\n",
    "                     122: {**common_params, 'values': [healthy_no, stroke_no]}\n",
    "                 })\n",
    "\n",
    "# Add text to the figure\n",
    "text_params = {'font': 'Arial', 'weight': 'bold', 'style': 'normal'}\n",
    "fig.text(0., 0.85, 'Stroke risk in hypertension', {**text_params, 'size': 20, 'color': 'black'})\n",
    "fig.text(0.65, 0.85, 'Stroke ', {**text_params, 'size': 16, 'color': '#ff7f0e'})\n",
    "fig.text(0.77, 0.85, '|', {'color': 'black', 'size': '16', 'weight': 'bold'})\n",
    "fig.text(0.79, 0.85, 'No Stroke', {**text_params, 'size': 16, 'color': '#1f77b4'})\n",
    "fig.text(0.13, 0.78, 'Have Hypertension', {**text_params, 'size': 14, 'color': 'black'})\n",
    "fig.text(0.57, 0.78, \"Don't have Hypertension\", {**text_params, 'size': 14, 'color': 'black'})\n",
    "fig.text(0.22, 0.22, '{}%'.format(healthy_yes), {**text_params, 'size': 20, 'color': '#1f77b4'})\n",
    "fig.text(0.71, 0.22, '{}%'.format(healthy_no), {**text_params, 'size': 20, 'color': '#1f77b4'})\n",
    "\n",
    "# Display the figure\n",
    "plt.show()"
   ]
  },
  {
   "cell_type": "markdown",
   "metadata": {},
   "source": [
    "We can notice that having hypertension increase the risks of having a stroke."
   ]
  },
  {
   "cell_type": "markdown",
   "metadata": {},
   "source": [
    "### 3.5 Gender and Hypertension"
   ]
  },
  {
   "cell_type": "code",
   "execution_count": 223,
   "metadata": {},
   "outputs": [
    {
     "data": {
      "image/png": "[encoded data removed]",
      "text/plain": [
       "<Waffle size 700x700 with 2 Axes>"
      ]
     },
     "metadata": {},
     "output_type": "display_data"
    }
   ],
   "source": [
    "# Calculate the percentage of stroke and healthy patients by gender\n",
    "stroke_gen = df[df['stroke'] == 1]['gender'].value_counts()\n",
    "healthy_gen = df[df['stroke'] == 0]['gender'].value_counts()\n",
    "\n",
    "female = df['gender'].value_counts().values[0]\n",
    "male = df['gender'].value_counts().values[1]\n",
    "\n",
    "stroke_female = int(round(stroke_gen.values[0] / female * 100, 0))\n",
    "stroke_male = int(round(stroke_gen.values[1] / male * 100, 0))\n",
    "healthy_female = int(round(healthy_gen.values[0] / female * 100, 0))\n",
    "healthy_male = int(round(healthy_gen.values[1] / male * 100, 0))\n",
    "\n",
    "# Define common plot parameters\n",
    "common_params = {\n",
    "    'rows': 7,\n",
    "    'columns': 7,\n",
    "    'colors': ['#1f77b4', '#ff7f0e'],\n",
    "    'vertical': True,\n",
    "    'interval_ratio_x': 0.1,\n",
    "    'interval_ratio_y': 0.1,\n",
    "    'plot_anchor': 'C',\n",
    "    'alpha': 0.1,\n",
    "    'starting_location': 'SE'\n",
    "}\n",
    "\n",
    "# Create the figure with two subplots\n",
    "fig = plt.figure(FigureClass=Waffle, \n",
    "                 constrained_layout=True,\n",
    "                 figsize=(7, 7),\n",
    "                 facecolor='#f6f5f5',\n",
    "                 dpi=100,\n",
    "                 plots={\n",
    "                     121: {**common_params, 'values': [healthy_male, stroke_male]},\n",
    "                     122: {**common_params, 'values': [healthy_female, stroke_female]}\n",
    "                 })\n",
    "\n",
    "# Add text to the figure\n",
    "text_params = {'font': 'Arial', 'weight': 'bold', 'style': 'normal'}\n",
    "fig.text(0., 0.85, 'Stroke risk by gender', {**text_params, 'size': 20, 'color': 'black'})\n",
    "fig.text(0.65, 0.85, 'Stroke ', {**text_params, 'size': 16, 'color': '#ff7f0e'})\n",
    "fig.text(0.77, 0.85, '|', {'color': 'black', 'size': '16', 'weight': 'bold'})\n",
    "fig.text(0.79, 0.85, 'No Stroke', {**text_params, 'size': 16, 'color': '#1f77b4'})\n",
    "fig.text(0.22, 0.78, 'Male', {**text_params, 'size': 14, 'color': 'black'})\n",
    "fig.text(0.70, 0.78, 'Female', {**text_params, 'size': 14, 'color': 'black'})\n",
    "fig.text(0.22, 0.22, '{}%'.format(healthy_yes), {**text_params, 'size': 20, 'color': '#1f77b4'})\n",
    "fig.text(0.71, 0.22, '{}%'.format(healthy_no), {**text_params, 'size': 20, 'color': '#1f77b4'})\n",
    "\n",
    "# Display the figure\n",
    "plt.show() "
   ]
  },
  {
   "cell_type": "markdown",
   "metadata": {},
   "source": [
    "There doesn't seems to be any differences regarding of the gender."
   ]
  },
  {
   "cell_type": "code",
   "execution_count": 224,
   "metadata": {},
   "outputs": [
    {
     "data": {
      "image/png": "[encoded data removed]",
      "text/plain": [
       "<Waffle size 700x700 with 2 Axes>"
      ]
     },
     "metadata": {},
     "output_type": "display_data"
    }
   ],
   "source": [
    "# Calculate the percentage of stroke and healthy patients by marital status\n",
    "stroke_married = df[df['stroke'] == 1]['ever_married'].value_counts()\n",
    "healthy_married = df[df['stroke'] == 0]['ever_married'].value_counts()\n",
    "\n",
    "married = df['ever_married'].value_counts().values[0]\n",
    "not_married = df['ever_married'].value_counts().values[1]\n",
    "\n",
    "stroke_yes = int(round(stroke_married.values[0] / married * 100, 0))\n",
    "stroke_no = int(round(stroke_married.values[1] / not_married * 100, 0))\n",
    "healthy_yes = int(round(healthy_married.values[0] / married * 100, 0))\n",
    "healthy_no = int(round(healthy_married.values[1] / not_married * 100, 0))\n",
    "\n",
    "# Define common plot parameters\n",
    "common_params = {\n",
    "    'rows': 7,\n",
    "    'columns': 7,\n",
    "    'colors': ['#1f77b4', '#ff7f0e'],\n",
    "    'vertical': True,\n",
    "    'interval_ratio_x': 0.1,\n",
    "    'interval_ratio_y': 0.1,\n",
    "    'plot_anchor': 'C',\n",
    "    'alpha': 0.1,\n",
    "    'starting_location': 'SE'\n",
    "}\n",
    "\n",
    "# Create the figure with two subplots\n",
    "fig = plt.figure(FigureClass=Waffle, \n",
    "                 constrained_layout=True,\n",
    "                 figsize=(7, 7),\n",
    "                 facecolor='#f6f5f5',\n",
    "                 dpi=100,\n",
    "                 plots={\n",
    "                     121: {**common_params, 'values': [healthy_yes, stroke_yes]},\n",
    "                     122: {**common_params, 'values': [healthy_no, stroke_no]}\n",
    "                 })\n",
    "\n",
    "# Add text to the figure\n",
    "text_params = {'font': 'Serif', 'weight': 'bold', 'style': 'normal'}\n",
    "fig.text(0., 0.85, 'Strokes risk by married or not', {**text_params, 'size': 20, 'color': 'black'})\n",
    "fig.text(0.68, 0.85, 'Stroke ', {**text_params, 'size': 16, 'color': '#ff7f0e'})\n",
    "fig.text(0.80, 0.85, '|', {'color': 'black', 'size': '16', 'weight': 'bold'})\n",
    "fig.text(0.81, 0.85, 'No Stroke', {**text_params, 'size': 16, 'color': '#1f77b4'})\n",
    "fig.text(0.20, 0.78, 'Married', {**text_params, 'size': 14, 'color': 'black'})\n",
    "fig.text(0.65, 0.78, 'Not Married', {**text_params, 'size': 14, 'color': 'black'})\n",
    "fig.text(0.22, 0.22, '{}%'.format(healthy_yes), {**text_params, 'size': 20, 'color': '#1f77b4'})\n",
    "fig.text(0.71, 0.22, '{}%'.format(healthy_no), {**text_params, 'size': 20, 'color': '#1f77b4'})\n",
    "\n",
    "# Display the figure\n",
    "plt.show()\n"
   ]
  },
  {
   "cell_type": "markdown",
   "metadata": {},
   "source": [
    "This was initially done as an inside joke. Well... don't marry ?'t"
   ]
  },
  {
   "cell_type": "markdown",
   "metadata": {},
   "source": [
    "### 3.7 Does living in the campaign matters ?"
   ]
  },
  {
   "cell_type": "code",
   "execution_count": 221,
   "metadata": {},
   "outputs": [
    {
     "data": {
      "image/png": "[encoded data removed]",
      "text/plain": [
       "<Waffle size 700x700 with 2 Axes>"
      ]
     },
     "metadata": {},
     "output_type": "display_data"
    }
   ],
   "source": [
    "# Calculate the percentage of stroke and healthy patients by residence\n",
    "stroke_residence = df[df['stroke'] == 1]['Residence_type'].value_counts()\n",
    "healthy_residence = df[df['stroke'] == 0]['Residence_type'].value_counts()\n",
    "\n",
    "urban = df['Residence_type'].value_counts().values[0]\n",
    "rural = df['Residence_type'].value_counts().values[1]\n",
    "\n",
    "stroke_urban = int(round(stroke_residence.values[0] / urban * 100, 0))\n",
    "stroke_rural = int(round(stroke_residence.values[1] / rural * 100, 0))\n",
    "healthy_urban = int(round(healthy_residence.values[0] / urban * 100, 0))\n",
    "healthy_rural = int(round(healthy_residence.values[1] / rural * 100, 0))\n",
    "\n",
    "# Define common plot parameters\n",
    "common_params = {\n",
    "    'rows': 7,\n",
    "    'columns': 7,\n",
    "    'colors': ['#1f77b4', '#ff7f0e'],\n",
    "    'vertical': True,\n",
    "    'interval_ratio_x': 0.1,\n",
    "    'interval_ratio_y': 0.1,\n",
    "    'plot_anchor': 'C',\n",
    "    'alpha': 0.1,\n",
    "    'starting_location': 'SE'\n",
    "}\n",
    "\n",
    "# Create the figure with two subplots\n",
    "fig = plt.figure(FigureClass=Waffle, \n",
    "                 constrained_layout=True,\n",
    "                 figsize=(7, 7),\n",
    "                 facecolor='#f6f5f5',\n",
    "                 dpi=100,\n",
    "                 plots={\n",
    "                     121: {**common_params, 'values': [healthy_urban, stroke_urban]},\n",
    "                     122: {**common_params, 'values': [healthy_rural, stroke_rural]}\n",
    "                 })\n",
    "\n",
    "# Add text to the figure\n",
    "text_params = {'font': 'Serif', 'weight': 'bold', 'style': 'normal'}\n",
    "fig.text(0., 0.85, 'Strokes risk by localization', {**text_params, 'size': 20, 'color': 'black'})\n",
    "fig.text(0.65, 0.85, 'Stroke ', {**text_params, 'size': 16, 'color': '#ff7f0e'})\n",
    "fig.text(0.77, 0.85, '|', {'color': 'black', 'size': '16', 'weight': 'bold'})\n",
    "fig.text(0.79, 0.85, 'No Stroke', {**text_params, 'size': 16, 'color': '#1f77b4'})\n",
    "fig.text(0.21, 0.78, 'Urban', {**text_params, 'size': 14, 'color': 'black'})\n",
    "fig.text(0.70, 0.78, 'Rural', {**text_params, 'size': 14, 'color': 'black'})\n",
    "fig.text(0.22, 0.22, '{}%'.format(healthy_yes), {**text_params, 'size': 20, 'color': '#1f77b4'})\n",
    "fig.text(0.71, 0.22, '{}%'.format(healthy_no), {**text_params, 'size': 20, 'color': '#1f77b4'})\n",
    "# Display the figure\n",
    "plt.show()"
   ]
  },
  {
   "cell_type": "markdown",
   "metadata": {},
   "source": [
    "There doesn't seems to be any differences regarding where the patient lives."
   ]
  },
  {
   "cell_type": "markdown",
   "metadata": {},
   "source": [
    "## 3.6 Stroke and Weight"
   ]
  },
  {
   "cell_type": "markdown",
   "metadata": {},
   "source": []
  },
  {
   "cell_type": "code",
   "execution_count": 209,
   "metadata": {},
   "outputs": [
    {
     "name": "stderr",
     "output_type": "stream",
     "text": [
      "C:\\Users\\cryte\\AppData\\Local\\Temp\\ipykernel_19928\\2270139666.py:8: FutureWarning: The default of observed=False is deprecated and will be changed to True in a future version of pandas. Pass observed=False to retain current behavior or observed=True to adopt the future default and silence this warning.\n",
      "  grouped = df.groupby(['avg_glucose_level_bin', 'stroke']).size().unstack(fill_value=0)\n"
     ]
    },
    {
     "data": {
      "image/png": "[encoded data removed]",
      "text/plain": [
       "<Figure size 1000x600 with 1 Axes>"
      ]
     },
     "metadata": {},
     "output_type": "display_data"
    }
   ],
   "source": [
    "# Convert the 'avg_glucose_level' column to numeric values, handling any errors by setting them to NaN\n",
    "df['avg_glucose_level'] = pd.to_numeric(df['avg_glucose_level'], errors='coerce')\n",
    "\n",
    "# Create a new column 'avg_glucose_level_bin' by categorizing the 'avg_glucose_level' into bins\n",
    "df['avg_glucose_level_bin'] = pd.cut(df['avg_glucose_level'], bins=[0, 90, 160, 230, 300], labels=['Low', 'Normal', 'High', 'Very High'])\n",
    "\n",
    "# Group the data by 'avg_glucose_level_bin' and 'stroke' columns and calculate the count of each combination\n",
    "grouped = df.groupby(['avg_glucose_level_bin', 'stroke']).size().unstack(fill_value=0)\n",
    "\n",
    "# Convert the counts to percentages\n",
    "grouped_percentage = grouped.div(grouped.sum(axis=1), axis=0) * 100\n",
    "\n",
    "# Create bar plots showing the percentage of stroke cases for each 'avg_glucose_level_bin'\n",
    "fig, ax = plt.subplots(figsize=(10, 6))\n",
    "grouped_percentage.plot(kind='bar', ax=ax)\n",
    "\n",
    "plt.title('Stroke by Glucose Level')\n",
    "plt.xlabel('Average Glucose Level')\n",
    "plt.ylabel('Percentage of Cases')\n",
    "plt.legend(title='Legend', labels=['Healthy', 'Stroke'])\n",
    "\n",
    "# Add the percentage values above each bar\n",
    "for i, bar in enumerate(ax.patches):\n",
    "    h = bar.get_height()\n",
    "    ax.text(bar.get_x() + bar.get_width() / 2, h, \n",
    "            f'{h:.1f}%', ha='center', va='bottom')\n",
    "\n",
    "plt.show()"
   ]
  },
  {
   "cell_type": "code",
   "execution_count": 210,
   "metadata": {},
   "outputs": [
    {
     "data": {
      "image/png": "[encoded data removed]",
      "text/plain": [
       "<Figure size 1000x500 with 1 Axes>"
      ]
     },
     "metadata": {},
     "output_type": "display_data"
    }
   ],
   "source": [
    "# Create the graph\n",
    "plt.figure(figsize=(10, 5))\n",
    "\n",
    "# KDE plot for average BMI of non-stroke cases\n",
    "sns.kdeplot(df[df['stroke'] == 0]['bmi'], fill=True, alpha=1, color='#1f77b4', label='No Stroke')\n",
    "\n",
    "# KDE plot for average BMI of stroke cases\n",
    "sns.kdeplot(df[df['stroke'] == 1]['bmi'], fill=True, alpha=0.8, color='#ff7f0e', label='Stroke')\n",
    "\n",
    "plt.title('Weight Level and Stroke Cases')\n",
    "plt.xlabel('Weight')\n",
    "plt.ylabel('Density')\n",
    "plt.legend()\n",
    "plt.show()"
   ]
  },
  {
   "cell_type": "markdown",
   "metadata": {},
   "source": [
    "## 4. Predictive model : implementing the two algorithms"
   ]
  },
  {
   "cell_type": "markdown",
   "metadata": {},
   "source": [
    "The two algorithms we chose to implement are the **Random Forest Classifier** and **XGBoost**. \n",
    "\n",
    "Like stated in the previous section, we are dealing with a *health* and *cybersecurity* problem which require explainability, thus **Random Forest Classifier** is a good choice. However, we also want to have a good accuracy, and **XGBoost** is known to be a good algorithm for that.\n",
    "\n",
    "Let's first implement the **Random Forest Classifier** using SMOTE resampling to deal with the umbalanced dataset. (that we saw in the previous section...)"
   ]
  },
  {
   "cell_type": "code",
   "execution_count": 211,
   "metadata": {},
   "outputs": [],
   "source": [
    "def test_model_rfc(test_df):\n",
    "    X = test_df.drop(['stroke'], axis=1)\n",
    "    y = test_df['stroke']\n",
    "    \n",
    "    # Encode categorical variables\n",
    "    X = pd.get_dummies(X)\n",
    "    \n",
    "    # Split the data into training and testing sets\n",
    "    X_train, X_test, y_train, y_test = train_test_split(X, y, test_size=0.2, random_state=42)\n",
    "    \n",
    "    # Resample the training set using SMOTE \n",
    "    X_resampled, y_resampled = SMOTE(random_state=42).fit_resample(X_train, y_train)\n",
    "    \n",
    "    # Define the Random Forest model\n",
    "    rfc = RandomForestClassifier(n_estimators=100, random_state=42)\n",
    "    \n",
    "    # Fit the model to the resampled training set\n",
    "    rfc.fit(X_resampled, y_resampled)\n",
    "    \n",
    "    # Predict on the test set\n",
    "    y_pred = rfc.predict(X_test)\n",
    "    \n",
    "    # Predict on the test set\n",
    "    y_pred = rfc.predict(X_test)\n",
    "    \n",
    "    # Print confusion matrix\n",
    "    print('Confusion Matrix:')\n",
    "    print(confusion_matrix(y_test, y_pred))\n",
    "    \n",
    "    # Print classification report\n",
    "    print('\\nClassification Report:')\n",
    "    print(classification_report(y_test, y_pred))\n",
    "    \n",
    "def test_model_xgb(test_df):\n",
    "    X = test_df.drop(['stroke'], axis=1)\n",
    "    y = test_df['stroke']\n",
    "    \n",
    "    # Encode categorical variables\n",
    "    X = pd.get_dummies(X)\n",
    "    \n",
    "    # Split the data into training and testing sets\n",
    "    X_train, X_test, y_train, y_test = train_test_split(X, y, test_size=0.2, random_state=42)\n",
    "    \n",
    "    # Resample the training set using SMOTE \n",
    "    X_resampled, y_resampled = SMOTE(random_state=42).fit_resample(X_train, y_train)\n",
    "    \n",
    "    # Define the XGBoost model\n",
    "    xgb = XGBClassifier(random_state=42)\n",
    "    \n",
    "    # Fit the model to the resampled training set\n",
    "    xgb.fit(X_resampled, y_resampled)\n",
    "    \n",
    "    # Predict on the test set\n",
    "    y_pred = xgb.predict(X_test)\n",
    "    \n",
    "    # Print confusion matrix\n",
    "    print('Confusion Matrix:')\n",
    "    print(confusion_matrix(y_test, y_pred))\n",
    "    \n",
    "    # Print classification report\n",
    "    print('\\nClassification Report:')\n",
    "    print(classification_report(y_test, y_pred))\n",
    "    "
   ]
  },
  {
   "cell_type": "markdown",
   "metadata": {},
   "source": [
    "### 4.1 Random Forest Classifier\n"
   ]
  },
  {
   "cell_type": "code",
   "execution_count": 212,
   "metadata": {},
   "outputs": [
    {
     "name": "stdout",
     "output_type": "stream",
     "text": [
      "Confusion Matrix:\n",
      "[[957   3]\n",
      " [ 61   1]]\n",
      "\n",
      "Classification Report:\n",
      "              precision    recall  f1-score   support\n",
      "\n",
      "           0       0.94      1.00      0.97       960\n",
      "           1       0.25      0.02      0.03        62\n",
      "\n",
      "    accuracy                           0.94      1022\n",
      "   macro avg       0.60      0.51      0.50      1022\n",
      "weighted avg       0.90      0.94      0.91      1022\n",
      "\n"
     ]
    }
   ],
   "source": [
    "test_model_rfc(df)"
   ]
  },
  {
   "cell_type": "markdown",
   "metadata": {},
   "source": [
    "### 4.2 XGBoost"
   ]
  },
  {
   "cell_type": "code",
   "execution_count": 213,
   "metadata": {},
   "outputs": [
    {
     "name": "stdout",
     "output_type": "stream",
     "text": [
      "Confusion Matrix:\n",
      "[[949  11]\n",
      " [ 58   4]]\n",
      "\n",
      "Classification Report:\n",
      "              precision    recall  f1-score   support\n",
      "\n",
      "           0       0.94      0.99      0.96       960\n",
      "           1       0.27      0.06      0.10        62\n",
      "\n",
      "    accuracy                           0.93      1022\n",
      "   macro avg       0.60      0.53      0.53      1022\n",
      "weighted avg       0.90      0.93      0.91      1022\n",
      "\n"
     ]
    }
   ],
   "source": [
    "test_model_xgb(df)"
   ]
  },
  {
   "cell_type": "markdown",
   "metadata": {},
   "source": [
    "### 4.3 Visualizing the models results"
   ]
  },
  {
   "cell_type": "code",
   "execution_count": 214,
   "metadata": {},
   "outputs": [
    {
     "data": {
      "text/plain": [
       "<Figure size 6000x6000 with 0 Axes>"
      ]
     },
     "metadata": {},
     "output_type": "display_data"
    },
    {
     "data": {
      "image/png": "[encoded data removed]",
      "text/plain": [
       "<Figure size 640x480 with 1 Axes>"
      ]
     },
     "metadata": {},
     "output_type": "display_data"
    },
    {
     "name": "stdout",
     "output_type": "stream",
     "text": [
      "Confusion Matrix:\n",
      "[[949  11]\n",
      " [ 58   4]]\n",
      "\n",
      "Classification Report:\n",
      "              precision    recall  f1-score   support\n",
      "\n",
      "           0       0.94      0.99      0.96       960\n",
      "           1       0.27      0.06      0.10        62\n",
      "\n",
      "    accuracy                           0.93      1022\n",
      "   macro avg       0.60      0.53      0.53      1022\n",
      "weighted avg       0.90      0.93      0.91      1022\n",
      "\n"
     ]
    }
   ],
   "source": [
    "import xgboost as xgb\n",
    "from xgboost import plot_tree\n",
    "import matplotlib.pyplot as plt\n",
    "\n",
    "test_df = df.copy()\n",
    "\n",
    "X = test_df.drop(['stroke'], axis=1)\n",
    "y = test_df['stroke']\n",
    "\n",
    "# Encode categorical variables\n",
    "X = pd.get_dummies(X)\n",
    "\n",
    "# Split the data into training and testing sets\n",
    "X_train, X_test, y_train, y_test = train_test_split(X, y, test_size=0.2, random_state=42)\n",
    "\n",
    "# Resample the training set using SMOTE \n",
    "X_resampled, y_resampled = SMOTE(random_state=42).fit_resample(X_train, y_train)\n",
    "\n",
    "# Define the XGBoost model\n",
    "xgb = XGBClassifier(random_state=42)\n",
    "\n",
    "# Fit the model to the resampled training set\n",
    "xgb.fit(X_resampled, y_resampled)\n",
    "\n",
    "# Predict on the test set\n",
    "y_pred = xgb.predict(X_test)\n",
    "\n",
    "# Create a new figure\n",
    "plt.figure(figsize=(20, 20), dpi=300)\n",
    "\n",
    "plot_tree(xgb, num_trees=0)\n",
    "plt.show()\n",
    "\n",
    "# Print confusion matrix\n",
    "print('Confusion Matrix:')\n",
    "print(confusion_matrix(y_test, y_pred))\n",
    "\n",
    "# Print classification report\n",
    "print('\\nClassification Report:')\n",
    "print(classification_report(y_test, y_pred))"
   ]
  },
  {
   "cell_type": "markdown",
   "metadata": {},
   "source": [
    "The Random Forest Classifier appears to be the most suitable model for our problem, given its superior accuracy and recall. Accuracy is a measure of how often the model correctly predicts the outcome, while recall is a measure of the model's ability to find all the relevant cases within a dataset. These two metrics are crucial in evaluating the performance of a model, especially in cases where the cost of a false negative is high.\n",
    "\n",
    "However, it's worth noting that the XGBoost model outperforms the Random Forest Classifier in terms of the F1-score. The F1-score is the harmonic mean of precision and recall, providing a balance between these two metrics. It is particularly useful in situations where the data has an uneven class distribution, as it seeks a balance between precision (how many selected items are relevant) and recall (how many relevant items are selected).\n",
    "\n",
    "In conclusion, while the Random Forest Classifier shows promising results in terms of accuracy and recall, the XGBoost model's superior F1-score suggests it might be a better choice in scenarios where both precision and recall are equally important. Therefore, the selection of the model should be based on the specific requirements and constraints of the problem at hand."
   ]
  },
  {
   "cell_type": "markdown",
   "metadata": {},
   "source": [
    "## 5. Cybersecurity: Data Privacy and Ethics, Implementing Anonymization Techniques\n",
    "\n",
    "### 5.1 Data Privacy \n",
    "\n",
    "In today's digital world, data privacy is a critical issue. As we increasingly rely on technology to manage our lives, we must ensure that our data is protected from misuse. This is especially important in the healthcare sector, where sensitive information is at risk of being compromised. Both the US and the EU have strict regulations in place to protect patient data. \n",
    "\n",
    "In the US, the [Health Insurance Portability and Accountability Act (HIPAA)](https://www.hhs.gov/hipaa/for-professionals/privacy/laws-regulations/index.html) establishes national standards for the protection of health information. In the EU, the [General Data Protection Regulation (GDPR)](https://commission.europa.eu/law/law-topic/data-protection/data-protection-eu_en) sets guidelines for the collection and processing of personal data. These regulations are designed to safeguard patient privacy and prevent unauthorized access to sensitive information. \n",
    "\n",
    "### 5.2 Anonymization Techniques\n",
    "\n",
    "In this project, we will use the Stroke Prediction Dataset, which contains personal data that can be viewed as sensitive. As demonstrated by the study by [Sweeney, L. (2000)](https://privacytools.seas.harvard.edu/sites/projects.iq.harvard.edu/files/privacytools/files/paper1.pdf) on the re-identification of individuals in the U.S. population, it is possible to identify 87.1% of the population based solely on {5-digit ZIP, gender, date of birth}. Therefore, we must take steps to protect the privacy of the individuals in our dataset, as our features can be used to identify them in a similar way.\n",
    "\n",
    "To do this, we will use the following anonymization techniques:\n",
    "- **Generalization:** We will replace the age and glucose level values with age ranges and glucose level ranges, respectively. This will reduce the data's granularity, making it more difficult to identify individuals.\n",
    "- **Hashing:** We will hash the values of `bmi`, `avg_glucose_level`, and `age` to further protect the privacy of the individuals in our dataset. This will ensure that the data cannot be traced back to a specific individual. \n",
    "- **Differential Privacy:** We will introduce noise to the dataset following the method of `Differential Privacy`. See the following resources for more information on this technique:\n",
    "  - https://en.wikipedia.org/wiki/Differential_privacy \n",
    "  - https://www.kaggle.com/code/samuelguebo/implementing-privacy-preservation-through-python\n",
    "\n",
    "One of the biggest drawbacks of privacy is that it can limit the usefulness of the data. There is always a trade-off between privacy and accuracy. In this project, we will use the [Differential Privacy](https://www.cis.upenn.edu/~aaroth/Papers/privacybook.pdf) technique to protect the privacy of the individuals in our dataset while still allowing for meaningful analysis by adjusting the amount of noise $\\epsilon$ added to the data. \n",
    "\n",
    "We'll compare the accuracy of our results **with and without differential privacy to determine the optimal value of $\\epsilon$.**"
   ]
  },
  {
   "cell_type": "markdown",
   "metadata": {},
   "source": [
    "## 6. Experimentation and discussion of the results"
   ]
  },
  {
   "cell_type": "markdown",
   "metadata": {},
   "source": [
    "### 6.1 Discretization of sensitive numerical data\n",
    "\n",
    "Let's try to discretize the `age`, `avg_glucose_level`, and `bmi` columns to see if it changes the results drastically.\n",
    "\n",
    "For discretization, we will use the basis of medical standards. \n",
    "- [Assessing Your Weight](https://www.cdc.gov/healthyweight/assessing/index.html)\n",
    "- [Blood Sugar Levels: What is Normal, Low or High, Target Ranges & More [w/ Downloadable Chart]](https://agamatrix.com/blog/normal-blood-sugar-level-chart/)\n",
    "- [Age – Physical Description](https://kidspicturedictionary.com/english-through-pictures/people-english-through-pictures/age-physical-description/)\n",
    "\n",
    "The specific ranges used for discretization are as follows:\n",
    "\n",
    "**Age Ranges:**\n",
    "\n",
    "| Age | Value |\n",
    "|-----|-------|\n",
    "| 0-13 | Child | \n",
    "| 13-18 | Teenager |\n",
    "| 18-45 | Adult |\n",
    "| 45-60 | Middle-Aged | \n",
    "| 60+ | Elderly |\n",
    "\n",
    "---\n",
    "\n",
    "**Glucose Level Ranges:**\n",
    "\n",
    "| Glucose Level (mg/dL) | Value |\n",
    "|---------------|-------|\n",
    "| 0-90 | Low |\n",
    "| 90-160 | Normal |\n",
    "| 160-230 | High |\n",
    "| 230-300 | Very High |\n",
    "\n",
    "---\n",
    "\n",
    "**BMI Ranges:**\n",
    "\n",
    "| BMI | Value |\n",
    "|-----|-------|\n",
    "| 0-18.5 | Underweight |\n",
    "| 18.5-25 | Normal |\n",
    "| 25-30 | Overweight |\n",
    "| 30-35 | Obese |\n",
    "\n",
    "\n"
   ]
  },
  {
   "cell_type": "markdown",
   "metadata": {},
   "source": [
    "For the following, we won't need the `id` column, as it could possibly be used to identify the patients. So we'll drop it."
   ]
  },
  {
   "cell_type": "code",
   "execution_count": 215,
   "metadata": {},
   "outputs": [],
   "source": [
    "df.drop(['id'], axis=1, inplace=True)"
   ]
  },
  {
   "cell_type": "code",
   "execution_count": 216,
   "metadata": {},
   "outputs": [
    {
     "name": "stdout",
     "output_type": "stream",
     "text": [
      "Confusion Matrix:\n",
      "[[933  27]\n",
      " [ 58   4]]\n",
      "\n",
      "Classification Report:\n",
      "              precision    recall  f1-score   support\n",
      "\n",
      "           0       0.94      0.97      0.96       960\n",
      "           1       0.13      0.06      0.09        62\n",
      "\n",
      "    accuracy                           0.92      1022\n",
      "   macro avg       0.54      0.52      0.52      1022\n",
      "weighted avg       0.89      0.92      0.90      1022\n",
      "\n",
      "Confusion Matrix:\n",
      "[[947  13]\n",
      " [ 58   4]]\n",
      "\n",
      "Classification Report:\n",
      "              precision    recall  f1-score   support\n",
      "\n",
      "           0       0.94      0.99      0.96       960\n",
      "           1       0.24      0.06      0.10        62\n",
      "\n",
      "    accuracy                           0.93      1022\n",
      "   macro avg       0.59      0.53      0.53      1022\n",
      "weighted avg       0.90      0.93      0.91      1022\n",
      "\n"
     ]
    }
   ],
   "source": [
    "# Binning of the numerical features\n",
    "\n",
    "discr_df = df.copy()\n",
    "\n",
    "discr_df['age'] = pd.cut(df['age'], bins=[0, 13, 18, 45, 60, 1000], labels=['Child', 'Teenager', 'Adult', 'Middle-Aged', 'Elderly'])\n",
    "discr_df['avg_glucose_level'] = pd.cut(df['avg_glucose_level'], bins=[0, 90, 160, 230, 300], labels=['Low', 'Normal', 'High', 'Very High'])\n",
    "discr_df['bmi'] = pd.cut(df['bmi'], bins=[0, 18.5, 25, 30, 1000], labels=['Underweight', 'Normal', 'Overweight', 'Obese'])\n",
    "\n",
    "test_model_rfc(discr_df)\n",
    "test_model_xgb(discr_df)"
   ]
  },
  {
   "cell_type": "code",
   "execution_count": 217,
   "metadata": {},
   "outputs": [
    {
     "data": {
      "text/html": [
       "<div>\n",
       "<style scoped>\n",
       "    .dataframe tbody tr th:only-of-type {\n",
       "        vertical-align: middle;\n",
       "    }\n",
       "\n",
       "    .dataframe tbody tr th {\n",
       "        vertical-align: top;\n",
       "    }\n",
       "\n",
       "    .dataframe thead th {\n",
       "        text-align: right;\n",
       "    }\n",
       "</style>\n",
       "<table border=\"1\" class=\"dataframe\">\n",
       "  <thead>\n",
       "    <tr style=\"text-align: right;\">\n",
       "      <th></th>\n",
       "      <th>gender</th>\n",
       "      <th>age</th>\n",
       "      <th>hypertension</th>\n",
       "      <th>heart_disease</th>\n",
       "      <th>ever_married</th>\n",
       "      <th>work_type</th>\n",
       "      <th>Residence_type</th>\n",
       "      <th>avg_glucose_level</th>\n",
       "      <th>bmi</th>\n",
       "      <th>smoking_status</th>\n",
       "      <th>stroke</th>\n",
       "      <th>age_bin</th>\n",
       "      <th>avg_glucose_level_bin</th>\n",
       "    </tr>\n",
       "  </thead>\n",
       "  <tbody>\n",
       "    <tr>\n",
       "      <th>0</th>\n",
       "      <td>Male</td>\n",
       "      <td>Elderly</td>\n",
       "      <td>0</td>\n",
       "      <td>1</td>\n",
       "      <td>Yes</td>\n",
       "      <td>Private</td>\n",
       "      <td>Urban</td>\n",
       "      <td>High</td>\n",
       "      <td>Obese</td>\n",
       "      <td>formerly smoked</td>\n",
       "      <td>1</td>\n",
       "      <td>Elderly</td>\n",
       "      <td>High</td>\n",
       "    </tr>\n",
       "    <tr>\n",
       "      <th>1</th>\n",
       "      <td>Female</td>\n",
       "      <td>Elderly</td>\n",
       "      <td>0</td>\n",
       "      <td>0</td>\n",
       "      <td>Yes</td>\n",
       "      <td>Self-employed</td>\n",
       "      <td>Rural</td>\n",
       "      <td>High</td>\n",
       "      <td>Overweight</td>\n",
       "      <td>never smoked</td>\n",
       "      <td>1</td>\n",
       "      <td>Elderly</td>\n",
       "      <td>High</td>\n",
       "    </tr>\n",
       "    <tr>\n",
       "      <th>2</th>\n",
       "      <td>Male</td>\n",
       "      <td>Elderly</td>\n",
       "      <td>0</td>\n",
       "      <td>1</td>\n",
       "      <td>Yes</td>\n",
       "      <td>Private</td>\n",
       "      <td>Rural</td>\n",
       "      <td>Normal</td>\n",
       "      <td>Obese</td>\n",
       "      <td>never smoked</td>\n",
       "      <td>1</td>\n",
       "      <td>Elderly</td>\n",
       "      <td>Normal</td>\n",
       "    </tr>\n",
       "    <tr>\n",
       "      <th>3</th>\n",
       "      <td>Female</td>\n",
       "      <td>Middle-Aged</td>\n",
       "      <td>0</td>\n",
       "      <td>0</td>\n",
       "      <td>Yes</td>\n",
       "      <td>Private</td>\n",
       "      <td>Urban</td>\n",
       "      <td>High</td>\n",
       "      <td>Obese</td>\n",
       "      <td>smokes</td>\n",
       "      <td>1</td>\n",
       "      <td>Middle-Aged</td>\n",
       "      <td>High</td>\n",
       "    </tr>\n",
       "    <tr>\n",
       "      <th>4</th>\n",
       "      <td>Female</td>\n",
       "      <td>Elderly</td>\n",
       "      <td>1</td>\n",
       "      <td>0</td>\n",
       "      <td>Yes</td>\n",
       "      <td>Self-employed</td>\n",
       "      <td>Rural</td>\n",
       "      <td>High</td>\n",
       "      <td>Normal</td>\n",
       "      <td>never smoked</td>\n",
       "      <td>1</td>\n",
       "      <td>Elderly</td>\n",
       "      <td>High</td>\n",
       "    </tr>\n",
       "  </tbody>\n",
       "</table>\n",
       "</div>"
      ],
      "text/plain": [
       "   gender          age  hypertension  heart_disease ever_married  \\\n",
       "0    Male      Elderly             0              1          Yes   \n",
       "1  Female      Elderly             0              0          Yes   \n",
       "2    Male      Elderly             0              1          Yes   \n",
       "3  Female  Middle-Aged             0              0          Yes   \n",
       "4  Female      Elderly             1              0          Yes   \n",
       "\n",
       "       work_type Residence_type avg_glucose_level         bmi  \\\n",
       "0        Private          Urban              High       Obese   \n",
       "1  Self-employed          Rural              High  Overweight   \n",
       "2        Private          Rural            Normal       Obese   \n",
       "3        Private          Urban              High       Obese   \n",
       "4  Self-employed          Rural              High      Normal   \n",
       "\n",
       "    smoking_status  stroke      age_bin avg_glucose_level_bin  \n",
       "0  formerly smoked       1      Elderly                  High  \n",
       "1     never smoked       1      Elderly                  High  \n",
       "2     never smoked       1      Elderly                Normal  \n",
       "3           smokes       1  Middle-Aged                  High  \n",
       "4     never smoked       1      Elderly                  High  "
      ]
     },
     "execution_count": 217,
     "metadata": {},
     "output_type": "execute_result"
    }
   ],
   "source": [
    "discr_df.head()"
   ]
  },
  {
   "cell_type": "markdown",
   "metadata": {},
   "source": [
    "### 6.2 Hashing"
   ]
  },
  {
   "cell_type": "code",
   "execution_count": 218,
   "metadata": {},
   "outputs": [
    {
     "name": "stdout",
     "output_type": "stream",
     "text": [
      "Confusion Matrix:\n",
      "[[958   2]\n",
      " [ 62   0]]\n",
      "\n",
      "Classification Report:\n",
      "              precision    recall  f1-score   support\n",
      "\n",
      "           0       0.94      1.00      0.97       960\n",
      "           1       0.00      0.00      0.00        62\n",
      "\n",
      "    accuracy                           0.94      1022\n",
      "   macro avg       0.47      0.50      0.48      1022\n",
      "weighted avg       0.88      0.94      0.91      1022\n",
      "\n",
      "Confusion Matrix:\n",
      "[[953   7]\n",
      " [ 59   3]]\n",
      "\n",
      "Classification Report:\n",
      "              precision    recall  f1-score   support\n",
      "\n",
      "           0       0.94      0.99      0.97       960\n",
      "           1       0.30      0.05      0.08        62\n",
      "\n",
      "    accuracy                           0.94      1022\n",
      "   macro avg       0.62      0.52      0.52      1022\n",
      "weighted avg       0.90      0.94      0.91      1022\n",
      "\n"
     ]
    },
    {
     "data": {
      "text/html": [
       "<div>\n",
       "<style scoped>\n",
       "    .dataframe tbody tr th:only-of-type {\n",
       "        vertical-align: middle;\n",
       "    }\n",
       "\n",
       "    .dataframe tbody tr th {\n",
       "        vertical-align: top;\n",
       "    }\n",
       "\n",
       "    .dataframe thead th {\n",
       "        text-align: right;\n",
       "    }\n",
       "</style>\n",
       "<table border=\"1\" class=\"dataframe\">\n",
       "  <thead>\n",
       "    <tr style=\"text-align: right;\">\n",
       "      <th></th>\n",
       "      <th>gender</th>\n",
       "      <th>age</th>\n",
       "      <th>hypertension</th>\n",
       "      <th>heart_disease</th>\n",
       "      <th>ever_married</th>\n",
       "      <th>work_type</th>\n",
       "      <th>Residence_type</th>\n",
       "      <th>avg_glucose_level</th>\n",
       "      <th>bmi</th>\n",
       "      <th>smoking_status</th>\n",
       "      <th>stroke</th>\n",
       "      <th>age_bin</th>\n",
       "      <th>avg_glucose_level_bin</th>\n",
       "    </tr>\n",
       "  </thead>\n",
       "  <tbody>\n",
       "    <tr>\n",
       "      <th>0</th>\n",
       "      <td>Male</td>\n",
       "      <td>1415837071432957824</td>\n",
       "      <td>0</td>\n",
       "      <td>1</td>\n",
       "      <td>Yes</td>\n",
       "      <td>Private</td>\n",
       "      <td>Urban</td>\n",
       "      <td>2813090325101920949</td>\n",
       "      <td>-3844796097561906013</td>\n",
       "      <td>formerly smoked</td>\n",
       "      <td>1</td>\n",
       "      <td>Elderly</td>\n",
       "      <td>High</td>\n",
       "    </tr>\n",
       "    <tr>\n",
       "      <th>1</th>\n",
       "      <td>Female</td>\n",
       "      <td>7392639458959447287</td>\n",
       "      <td>0</td>\n",
       "      <td>0</td>\n",
       "      <td>Yes</td>\n",
       "      <td>Self-employed</td>\n",
       "      <td>Rural</td>\n",
       "      <td>-3064880603830464253</td>\n",
       "      <td>-425480062379332203</td>\n",
       "      <td>never smoked</td>\n",
       "      <td>1</td>\n",
       "      <td>Elderly</td>\n",
       "      <td>High</td>\n",
       "    </tr>\n",
       "    <tr>\n",
       "      <th>2</th>\n",
       "      <td>Male</td>\n",
       "      <td>-6113739519282742357</td>\n",
       "      <td>0</td>\n",
       "      <td>1</td>\n",
       "      <td>Yes</td>\n",
       "      <td>Private</td>\n",
       "      <td>Rural</td>\n",
       "      <td>161012198011337022</td>\n",
       "      <td>-7653059975954590368</td>\n",
       "      <td>never smoked</td>\n",
       "      <td>1</td>\n",
       "      <td>Elderly</td>\n",
       "      <td>Normal</td>\n",
       "    </tr>\n",
       "    <tr>\n",
       "      <th>3</th>\n",
       "      <td>Female</td>\n",
       "      <td>362115476216381171</td>\n",
       "      <td>0</td>\n",
       "      <td>0</td>\n",
       "      <td>Yes</td>\n",
       "      <td>Private</td>\n",
       "      <td>Urban</td>\n",
       "      <td>6496962049327835605</td>\n",
       "      <td>-7997918926423042567</td>\n",
       "      <td>smokes</td>\n",
       "      <td>1</td>\n",
       "      <td>Middle-Aged</td>\n",
       "      <td>High</td>\n",
       "    </tr>\n",
       "    <tr>\n",
       "      <th>4</th>\n",
       "      <td>Female</td>\n",
       "      <td>-6918636687424201400</td>\n",
       "      <td>1</td>\n",
       "      <td>0</td>\n",
       "      <td>Yes</td>\n",
       "      <td>Self-employed</td>\n",
       "      <td>Rural</td>\n",
       "      <td>-8602971519813284900</td>\n",
       "      <td>-6976735843519234152</td>\n",
       "      <td>never smoked</td>\n",
       "      <td>1</td>\n",
       "      <td>Elderly</td>\n",
       "      <td>High</td>\n",
       "    </tr>\n",
       "    <tr>\n",
       "      <th>5</th>\n",
       "      <td>Male</td>\n",
       "      <td>-7246812397701398159</td>\n",
       "      <td>0</td>\n",
       "      <td>0</td>\n",
       "      <td>Yes</td>\n",
       "      <td>Private</td>\n",
       "      <td>Urban</td>\n",
       "      <td>-1612159741649358362</td>\n",
       "      <td>3070591904921293070</td>\n",
       "      <td>formerly smoked</td>\n",
       "      <td>1</td>\n",
       "      <td>Elderly</td>\n",
       "      <td>High</td>\n",
       "    </tr>\n",
       "    <tr>\n",
       "      <th>6</th>\n",
       "      <td>Male</td>\n",
       "      <td>7497969168071816022</td>\n",
       "      <td>1</td>\n",
       "      <td>1</td>\n",
       "      <td>Yes</td>\n",
       "      <td>Private</td>\n",
       "      <td>Rural</td>\n",
       "      <td>-45196203825524245</td>\n",
       "      <td>2731944517908207239</td>\n",
       "      <td>never smoked</td>\n",
       "      <td>1</td>\n",
       "      <td>Elderly</td>\n",
       "      <td>Low</td>\n",
       "    </tr>\n",
       "    <tr>\n",
       "      <th>7</th>\n",
       "      <td>Female</td>\n",
       "      <td>-5818120126425195864</td>\n",
       "      <td>0</td>\n",
       "      <td>0</td>\n",
       "      <td>No</td>\n",
       "      <td>Private</td>\n",
       "      <td>Urban</td>\n",
       "      <td>-4598008497421784072</td>\n",
       "      <td>-303602231515277317</td>\n",
       "      <td>never smoked</td>\n",
       "      <td>1</td>\n",
       "      <td>Elderly</td>\n",
       "      <td>Normal</td>\n",
       "    </tr>\n",
       "    <tr>\n",
       "      <th>8</th>\n",
       "      <td>Female</td>\n",
       "      <td>-2473788836876577116</td>\n",
       "      <td>0</td>\n",
       "      <td>0</td>\n",
       "      <td>Yes</td>\n",
       "      <td>Private</td>\n",
       "      <td>Rural</td>\n",
       "      <td>-5995223961776490506</td>\n",
       "      <td>-425480062379332203</td>\n",
       "      <td>Unknown</td>\n",
       "      <td>1</td>\n",
       "      <td>Middle-Aged</td>\n",
       "      <td>Low</td>\n",
       "    </tr>\n",
       "    <tr>\n",
       "      <th>9</th>\n",
       "      <td>Female</td>\n",
       "      <td>-4360013551078489235</td>\n",
       "      <td>0</td>\n",
       "      <td>0</td>\n",
       "      <td>Yes</td>\n",
       "      <td>Private</td>\n",
       "      <td>Urban</td>\n",
       "      <td>-7083809057789430827</td>\n",
       "      <td>8503510795915110372</td>\n",
       "      <td>Unknown</td>\n",
       "      <td>1</td>\n",
       "      <td>Elderly</td>\n",
       "      <td>Low</td>\n",
       "    </tr>\n",
       "  </tbody>\n",
       "</table>\n",
       "</div>"
      ],
      "text/plain": [
       "   gender                  age  hypertension  heart_disease ever_married  \\\n",
       "0    Male  1415837071432957824             0              1          Yes   \n",
       "1  Female  7392639458959447287             0              0          Yes   \n",
       "2    Male -6113739519282742357             0              1          Yes   \n",
       "3  Female   362115476216381171             0              0          Yes   \n",
       "4  Female -6918636687424201400             1              0          Yes   \n",
       "5    Male -7246812397701398159             0              0          Yes   \n",
       "6    Male  7497969168071816022             1              1          Yes   \n",
       "7  Female -5818120126425195864             0              0           No   \n",
       "8  Female -2473788836876577116             0              0          Yes   \n",
       "9  Female -4360013551078489235             0              0          Yes   \n",
       "\n",
       "       work_type Residence_type    avg_glucose_level                  bmi  \\\n",
       "0        Private          Urban  2813090325101920949 -3844796097561906013   \n",
       "1  Self-employed          Rural -3064880603830464253  -425480062379332203   \n",
       "2        Private          Rural   161012198011337022 -7653059975954590368   \n",
       "3        Private          Urban  6496962049327835605 -7997918926423042567   \n",
       "4  Self-employed          Rural -8602971519813284900 -6976735843519234152   \n",
       "5        Private          Urban -1612159741649358362  3070591904921293070   \n",
       "6        Private          Rural   -45196203825524245  2731944517908207239   \n",
       "7        Private          Urban -4598008497421784072  -303602231515277317   \n",
       "8        Private          Rural -5995223961776490506  -425480062379332203   \n",
       "9        Private          Urban -7083809057789430827  8503510795915110372   \n",
       "\n",
       "    smoking_status  stroke      age_bin avg_glucose_level_bin  \n",
       "0  formerly smoked       1      Elderly                  High  \n",
       "1     never smoked       1      Elderly                  High  \n",
       "2     never smoked       1      Elderly                Normal  \n",
       "3           smokes       1  Middle-Aged                  High  \n",
       "4     never smoked       1      Elderly                  High  \n",
       "5  formerly smoked       1      Elderly                  High  \n",
       "6     never smoked       1      Elderly                   Low  \n",
       "7     never smoked       1      Elderly                Normal  \n",
       "8          Unknown       1  Middle-Aged                   Low  \n",
       "9          Unknown       1      Elderly                   Low  "
      ]
     },
     "execution_count": 218,
     "metadata": {},
     "output_type": "execute_result"
    }
   ],
   "source": [
    "hash_df = df.copy()\n",
    "\n",
    "hash_df['age'] = [hash(str(x)) for x in hash_df['age']]\n",
    "hash_df['avg_glucose_level'] = [hash(str(x)) for x in hash_df['avg_glucose_level']]\n",
    "hash_df['bmi'] = [hash(str(x)) for x in hash_df['bmi']]\n",
    "\n",
    "test_model_rfc(hash_df)\n",
    "test_model_xgb(hash_df)\n",
    "\n",
    "hash_df.head(10)"
   ]
  },
  {
   "cell_type": "markdown",
   "metadata": {},
   "source": [
    "### 6.31 Differential privacy"
   ]
  },
  {
   "cell_type": "code",
   "execution_count": 219,
   "metadata": {},
   "outputs": [
    {
     "name": "stdout",
     "output_type": "stream",
     "text": [
      "Confusion Matrix:\n",
      "[[954   6]\n",
      " [ 61   1]]\n",
      "\n",
      "Classification Report:\n",
      "              precision    recall  f1-score   support\n",
      "\n",
      "           0       0.94      0.99      0.97       960\n",
      "           1       0.14      0.02      0.03        62\n",
      "\n",
      "    accuracy                           0.93      1022\n",
      "   macro avg       0.54      0.50      0.50      1022\n",
      "weighted avg       0.89      0.93      0.91      1022\n",
      "\n",
      "Confusion Matrix:\n",
      "[[947  13]\n",
      " [ 59   3]]\n",
      "\n",
      "Classification Report:\n",
      "              precision    recall  f1-score   support\n",
      "\n",
      "           0       0.94      0.99      0.96       960\n",
      "           1       0.19      0.05      0.08        62\n",
      "\n",
      "    accuracy                           0.93      1022\n",
      "   macro avg       0.56      0.52      0.52      1022\n",
      "weighted avg       0.90      0.93      0.91      1022\n",
      "\n"
     ]
    },
    {
     "data": {
      "text/html": [
       "<div>\n",
       "<style scoped>\n",
       "    .dataframe tbody tr th:only-of-type {\n",
       "        vertical-align: middle;\n",
       "    }\n",
       "\n",
       "    .dataframe tbody tr th {\n",
       "        vertical-align: top;\n",
       "    }\n",
       "\n",
       "    .dataframe thead th {\n",
       "        text-align: right;\n",
       "    }\n",
       "</style>\n",
       "<table border=\"1\" class=\"dataframe\">\n",
       "  <thead>\n",
       "    <tr style=\"text-align: right;\">\n",
       "      <th></th>\n",
       "      <th>gender</th>\n",
       "      <th>age</th>\n",
       "      <th>hypertension</th>\n",
       "      <th>heart_disease</th>\n",
       "      <th>ever_married</th>\n",
       "      <th>work_type</th>\n",
       "      <th>Residence_type</th>\n",
       "      <th>avg_glucose_level</th>\n",
       "      <th>bmi</th>\n",
       "      <th>smoking_status</th>\n",
       "      <th>stroke</th>\n",
       "      <th>age_bin</th>\n",
       "      <th>avg_glucose_level_bin</th>\n",
       "    </tr>\n",
       "  </thead>\n",
       "  <tbody>\n",
       "    <tr>\n",
       "      <th>0</th>\n",
       "      <td>Male</td>\n",
       "      <td>59.588917</td>\n",
       "      <td>0</td>\n",
       "      <td>1</td>\n",
       "      <td>Yes</td>\n",
       "      <td>Private</td>\n",
       "      <td>Urban</td>\n",
       "      <td>100.000000</td>\n",
       "      <td>56.389878</td>\n",
       "      <td>formerly smoked</td>\n",
       "      <td>1</td>\n",
       "      <td>Elderly</td>\n",
       "      <td>High</td>\n",
       "    </tr>\n",
       "    <tr>\n",
       "      <th>1</th>\n",
       "      <td>Female</td>\n",
       "      <td>62.446405</td>\n",
       "      <td>0</td>\n",
       "      <td>0</td>\n",
       "      <td>Yes</td>\n",
       "      <td>Self-employed</td>\n",
       "      <td>Rural</td>\n",
       "      <td>100.000000</td>\n",
       "      <td>20.160154</td>\n",
       "      <td>never smoked</td>\n",
       "      <td>1</td>\n",
       "      <td>Elderly</td>\n",
       "      <td>High</td>\n",
       "    </tr>\n",
       "    <tr>\n",
       "      <th>2</th>\n",
       "      <td>Male</td>\n",
       "      <td>77.570418</td>\n",
       "      <td>0</td>\n",
       "      <td>1</td>\n",
       "      <td>Yes</td>\n",
       "      <td>Private</td>\n",
       "      <td>Rural</td>\n",
       "      <td>100.000000</td>\n",
       "      <td>18.198520</td>\n",
       "      <td>never smoked</td>\n",
       "      <td>1</td>\n",
       "      <td>Elderly</td>\n",
       "      <td>Normal</td>\n",
       "    </tr>\n",
       "    <tr>\n",
       "      <th>3</th>\n",
       "      <td>Female</td>\n",
       "      <td>30.617961</td>\n",
       "      <td>0</td>\n",
       "      <td>0</td>\n",
       "      <td>Yes</td>\n",
       "      <td>Private</td>\n",
       "      <td>Urban</td>\n",
       "      <td>100.000000</td>\n",
       "      <td>43.287050</td>\n",
       "      <td>smokes</td>\n",
       "      <td>1</td>\n",
       "      <td>Middle-Aged</td>\n",
       "      <td>High</td>\n",
       "    </tr>\n",
       "    <tr>\n",
       "      <th>4</th>\n",
       "      <td>Female</td>\n",
       "      <td>80.322931</td>\n",
       "      <td>1</td>\n",
       "      <td>0</td>\n",
       "      <td>Yes</td>\n",
       "      <td>Self-employed</td>\n",
       "      <td>Rural</td>\n",
       "      <td>100.000000</td>\n",
       "      <td>23.338903</td>\n",
       "      <td>never smoked</td>\n",
       "      <td>1</td>\n",
       "      <td>Elderly</td>\n",
       "      <td>High</td>\n",
       "    </tr>\n",
       "    <tr>\n",
       "      <th>5</th>\n",
       "      <td>Male</td>\n",
       "      <td>85.102155</td>\n",
       "      <td>0</td>\n",
       "      <td>0</td>\n",
       "      <td>Yes</td>\n",
       "      <td>Private</td>\n",
       "      <td>Urban</td>\n",
       "      <td>100.000000</td>\n",
       "      <td>19.456167</td>\n",
       "      <td>formerly smoked</td>\n",
       "      <td>1</td>\n",
       "      <td>Elderly</td>\n",
       "      <td>High</td>\n",
       "    </tr>\n",
       "    <tr>\n",
       "      <th>6</th>\n",
       "      <td>Male</td>\n",
       "      <td>100.000000</td>\n",
       "      <td>1</td>\n",
       "      <td>1</td>\n",
       "      <td>Yes</td>\n",
       "      <td>Private</td>\n",
       "      <td>Rural</td>\n",
       "      <td>72.835807</td>\n",
       "      <td>30.422973</td>\n",
       "      <td>never smoked</td>\n",
       "      <td>1</td>\n",
       "      <td>Elderly</td>\n",
       "      <td>Low</td>\n",
       "    </tr>\n",
       "    <tr>\n",
       "      <th>7</th>\n",
       "      <td>Female</td>\n",
       "      <td>66.738611</td>\n",
       "      <td>0</td>\n",
       "      <td>0</td>\n",
       "      <td>No</td>\n",
       "      <td>Private</td>\n",
       "      <td>Urban</td>\n",
       "      <td>99.222214</td>\n",
       "      <td>25.809755</td>\n",
       "      <td>never smoked</td>\n",
       "      <td>1</td>\n",
       "      <td>Elderly</td>\n",
       "      <td>Normal</td>\n",
       "    </tr>\n",
       "    <tr>\n",
       "      <th>8</th>\n",
       "      <td>Female</td>\n",
       "      <td>40.495404</td>\n",
       "      <td>0</td>\n",
       "      <td>0</td>\n",
       "      <td>Yes</td>\n",
       "      <td>Private</td>\n",
       "      <td>Rural</td>\n",
       "      <td>100.000000</td>\n",
       "      <td>17.291791</td>\n",
       "      <td>Unknown</td>\n",
       "      <td>1</td>\n",
       "      <td>Middle-Aged</td>\n",
       "      <td>Low</td>\n",
       "    </tr>\n",
       "    <tr>\n",
       "      <th>9</th>\n",
       "      <td>Female</td>\n",
       "      <td>88.362905</td>\n",
       "      <td>0</td>\n",
       "      <td>0</td>\n",
       "      <td>Yes</td>\n",
       "      <td>Private</td>\n",
       "      <td>Urban</td>\n",
       "      <td>58.916642</td>\n",
       "      <td>28.141116</td>\n",
       "      <td>Unknown</td>\n",
       "      <td>1</td>\n",
       "      <td>Elderly</td>\n",
       "      <td>Low</td>\n",
       "    </tr>\n",
       "  </tbody>\n",
       "</table>\n",
       "</div>"
      ],
      "text/plain": [
       "   gender         age  hypertension  heart_disease ever_married  \\\n",
       "0    Male   59.588917             0              1          Yes   \n",
       "1  Female   62.446405             0              0          Yes   \n",
       "2    Male   77.570418             0              1          Yes   \n",
       "3  Female   30.617961             0              0          Yes   \n",
       "4  Female   80.322931             1              0          Yes   \n",
       "5    Male   85.102155             0              0          Yes   \n",
       "6    Male  100.000000             1              1          Yes   \n",
       "7  Female   66.738611             0              0           No   \n",
       "8  Female   40.495404             0              0          Yes   \n",
       "9  Female   88.362905             0              0          Yes   \n",
       "\n",
       "       work_type Residence_type  avg_glucose_level        bmi  \\\n",
       "0        Private          Urban         100.000000  56.389878   \n",
       "1  Self-employed          Rural         100.000000  20.160154   \n",
       "2        Private          Rural         100.000000  18.198520   \n",
       "3        Private          Urban         100.000000  43.287050   \n",
       "4  Self-employed          Rural         100.000000  23.338903   \n",
       "5        Private          Urban         100.000000  19.456167   \n",
       "6        Private          Rural          72.835807  30.422973   \n",
       "7        Private          Urban          99.222214  25.809755   \n",
       "8        Private          Rural         100.000000  17.291791   \n",
       "9        Private          Urban          58.916642  28.141116   \n",
       "\n",
       "    smoking_status  stroke      age_bin avg_glucose_level_bin  \n",
       "0  formerly smoked       1      Elderly                  High  \n",
       "1     never smoked       1      Elderly                  High  \n",
       "2     never smoked       1      Elderly                Normal  \n",
       "3           smokes       1  Middle-Aged                  High  \n",
       "4     never smoked       1      Elderly                  High  \n",
       "5  formerly smoked       1      Elderly                  High  \n",
       "6     never smoked       1      Elderly                   Low  \n",
       "7     never smoked       1      Elderly                Normal  \n",
       "8          Unknown       1  Middle-Aged                   Low  \n",
       "9          Unknown       1      Elderly                   Low  "
      ]
     },
     "execution_count": 219,
     "metadata": {},
     "output_type": "execute_result"
    }
   ],
   "source": [
    "from diffprivlib.mechanisms import LaplaceTruncated\n",
    "\n",
    "sensitivity=3\n",
    "epsilon=0.3\n",
    "\n",
    "mechanism = LaplaceTruncated(sensitivity=sensitivity, epsilon=epsilon, lower=5, upper=100)\n",
    "\n",
    "diff_df = df.copy()\n",
    "diff_df['age'] = [mechanism.randomise(diff_df['age'][i]) for i in range(len(diff_df['age']))]\n",
    "diff_df['avg_glucose_level'] = [mechanism.randomise(diff_df['avg_glucose_level'][i]) for i in range(len(diff_df['avg_glucose_level']))]\n",
    "diff_df['bmi'] = [mechanism.randomise(diff_df['bmi'][i]) for i in range(len(diff_df['bmi']))]\n",
    "\n",
    "test_model_rfc(diff_df)\n",
    "test_model_xgb(diff_df)\n",
    "\n",
    "diff_df.head(10)\n"
   ]
  },
  {
   "cell_type": "markdown",
   "metadata": {},
   "source": [
    "### 6.4 All techniques combined"
   ]
  },
  {
   "cell_type": "code",
   "execution_count": 220,
   "metadata": {},
   "outputs": [
    {
     "name": "stdout",
     "output_type": "stream",
     "text": [
      "Confusion Matrix:\n",
      "[[942  18]\n",
      " [ 59   3]]\n",
      "\n",
      "Classification Report:\n",
      "              precision    recall  f1-score   support\n",
      "\n",
      "           0       0.94      0.98      0.96       960\n",
      "           1       0.14      0.05      0.07        62\n",
      "\n",
      "    accuracy                           0.92      1022\n",
      "   macro avg       0.54      0.51      0.52      1022\n",
      "weighted avg       0.89      0.92      0.91      1022\n",
      "\n",
      "Confusion Matrix:\n",
      "[[944  16]\n",
      " [ 59   3]]\n",
      "\n",
      "Classification Report:\n",
      "              precision    recall  f1-score   support\n",
      "\n",
      "           0       0.94      0.98      0.96       960\n",
      "           1       0.16      0.05      0.07        62\n",
      "\n",
      "    accuracy                           0.93      1022\n",
      "   macro avg       0.55      0.52      0.52      1022\n",
      "weighted avg       0.89      0.93      0.91      1022\n",
      "\n"
     ]
    }
   ],
   "source": [
    "from diffprivlib.mechanisms import LaplaceTruncated\n",
    "\n",
    "sensitivity=3\n",
    "epsilon=0.3\n",
    "\n",
    "mechanism = LaplaceTruncated(sensitivity=sensitivity, epsilon=epsilon, lower=5, upper=100)\n",
    "\n",
    "\n",
    "all_df = df.copy()\n",
    "\n",
    "all_df['age'] = [mechanism.randomise(all_df['age'][i]) for i in range(len(all_df['age']))]\n",
    "all_df['age'] = pd.cut(all_df['age'], bins=[0, 13, 18, 45, 60, 1000], labels=['Child', 'Teenager', 'Adult', 'Middle-Aged', 'Elderly'])\n",
    "all_df['age'] = [hash(str(x)) for x in all_df['age']]\n",
    "\n",
    "all_df['avg_glucose_level'] = [mechanism.randomise(all_df['avg_glucose_level'][i]) for i in range(len(all_df['avg_glucose_level']))]\n",
    "all_df['avg_glucose_level'] = pd.cut(all_df['avg_glucose_level'], bins=[0, 90, 160, 230, 300], labels=['Low', 'Normal', 'High', 'Very High'])\n",
    "all_df['avg_glucose_level'] = [hash(str(x)) for x in all_df['avg_glucose_level']]\n",
    "\n",
    "all_df['bmi'] = [mechanism.randomise(all_df['bmi'][i]) for i in range(len(all_df['bmi']))]\n",
    "all_df['bmi'] = pd.cut(all_df['bmi'], bins=[0, 18.5, 25, 30, 1000], labels=['Underweight', 'Normal', 'Overweight', 'Obese'])\n",
    "all_df['bmi'] = [hash(str(x)) for x in all_df['bmi']]\n",
    "\n",
    "test_model_rfc(all_df)\n",
    "test_model_xgb(all_df)"
   ]
  },
  {
   "cell_type": "markdown",
   "metadata": {},
   "source": [
    "The interesting part of this result is that our accuracy is still quite high. Even with 2 approximations (generalization and differential privacy) and a hashing, we don't loose much accuracy.\n",
    "\n",
    "In a context of medical analyze, 92% are not even close to be acceptable, but the key takeaway here is that there is not much loss in accuracy, with a LOT more privacy."
   ]
  },
  {
   "cell_type": "markdown",
   "metadata": {},
   "source": [
    "## 7. Group assessment (what you have learned, points for improvement, etc.)"
   ]
  },
  {
   "cell_type": "markdown",
   "metadata": {},
   "source": [
    "### 7.1 Data analysis conclusion"
   ]
  },
  {
   "cell_type": "markdown",
   "metadata": {},
   "source": [
    "In our analysis, we observed that certain variables, such as `bmi`, `age`, and `heart_diseases`, had a significant impact on the model's performance. These variables played a crucial role in predicting the outcome accurately. \n",
    "\n",
    "On the contrary, we found that the remaining variables either had minimal importance or were already explained or correlated with the aforementioned key variables. This outcome aligns with our expectations and reinforces the understanding that these three variables are crucial in determining the model's predictive power."
   ]
  },
  {
   "cell_type": "markdown",
   "metadata": {},
   "source": [
    "### 7.2 What we have learned"
   ]
  },
  {
   "cell_type": "markdown",
   "metadata": {},
   "source": [
    "Throughout this analysis, we have delved into various advanced concepts and techniques in data analysis and machine learning. We have explored the application of different models, such as Random Forest and XGBoost, to predict stroke occurrences based on a set of features. Additionally, we have employed anonymization techniques, including generalization, hashing, and differential privacy, to protect the privacy of sensitive data while still allowing for meaningful analysis.\n",
    "\n",
    "Our findings have revealed that certain variables, such as BMI, age, and heart diseases, play a significant role in accurately predicting stroke outcomes. These variables have demonstrated a strong correlation with the target variable and have proven to be crucial in determining the model's predictive power.\n",
    "\n",
    "Furthermore, we have observed that the combination of anonymization techniques, such as generalization, hashing, and differential privacy, can effectively protect the privacy of individuals in the dataset without sacrificing a significant amount of accuracy. This highlights the importance of implementing privacy-preserving measures in data analysis, particularly in sensitive domains like healthcare.\n",
    "\n",
    "In conclusion, this analysis has provided valuable insights into advanced data analysis techniques and their application in real-world scenarios. By leveraging machine learning models and privacy-preserving techniques, we can enhance our understanding of complex datasets while ensuring the protection of sensitive information."
   ]
  },
  {
   "cell_type": "markdown",
   "metadata": {},
   "source": [
    "### 7.3 Improvements"
   ]
  },
  {
   "cell_type": "markdown",
   "metadata": {},
   "source": [
    "In this analysis, there are several areas that could be improved to enhance the predictive power and analytical capabilities. Due to time constraints and other academic commitments, certain aspects were not thoroughly explored. However, by considering new ways to predict and analyze the data, we can further enhance the insights gained from this study.\n",
    "\n",
    "1. **Feature Engineering**: The current analysis focused on a limited set of features, such as BMI, age, and heart diseases. To improve the predictive accuracy, additional relevant features could be considered. For example, incorporating lifestyle factors, medical history, and genetic information could provide a more comprehensive understanding of the underlying factors contributing to stroke occurrences.\n",
    "\n",
    "2. **Advanced Machine Learning Techniques**: While Random Forest and XGBoost models were employed in this analysis, other advanced machine learning algorithms could be explored. Techniques such as deep learning, ensemble methods, and support vector machines (SVM) may offer improved predictive performance and uncover complex relationships within the dataset.\n",
    "\n",
    "3. **Model Optimization**: The current analysis utilized default hyperparameters for the machine learning models. Fine-tuning the model hyperparameters through techniques like grid search or Bayesian optimization could lead to improved model performance. Additionally, exploring different model architectures and ensemble strategies could further enhance the predictive accuracy.\n",
    "\n",
    "4. **Interpretability and Explainability**: While the current analysis focused on predictive accuracy, incorporating interpretability and explainability techniques could provide valuable insights into the underlying factors contributing to stroke occurrences. Techniques such as feature importance analysis, SHAP values, and model-agnostic interpretability methods can help identify the most influential features and provide explanations for the model's predictions.\n",
    "\n",
    "5. **Validation and Generalization**: To ensure the robustness and generalizability of the models, rigorous validation techniques such as cross-validation and external validation on independent datasets should be performed. This would provide a more accurate assessment of the model's performance and its ability to generalize to unseen data.\n",
    "\n",
    "In conclusion, while this analysis provides valuable insights into predicting stroke occurrences, there are several avenues for improvement. By incorporating advanced machine learning techniques, exploring additional features, optimizing model parameters, and ensuring interpretability and generalizability, we can enhance the accuracy and depth of analysis in future studies."
   ]
  }
 ],
 "metadata": {
  "kernelspec": {
   "display_name": "Python 3 (ipykernel)",
   "language": "python",
   "name": "python3"
  },
  "language_info": {
   "codemirror_mode": {
    "name": "ipython",
    "version": 3
   },
   "file_extension": ".py",
   "mimetype": "text/x-python",
   "name": "python",
   "nbconvert_exporter": "python",
   "pygments_lexer": "ipython3",
   "version": "3.11.5"
  }
 },
 "nbformat": 4,
 "nbformat_minor": 2
}
