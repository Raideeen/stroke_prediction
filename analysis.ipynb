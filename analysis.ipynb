{
 "cells": [
  {
   "cell_type": "markdown",
   "metadata": {},
   "source": [
    "(don't forget to add a cover page with the title of your contribution, the composition of the group and the name of the major to which you belong.)\n",
    "\n",
    "# Visualizing the Impact of Lifestyle on Stroke Risk\n",
    "\n",
    "## 1. Introduction \n",
    "\n",
    "### 1.1 Brief Context of Stroke as a Global Health Issue\n",
    "\n",
    "Stroke remains a leading cause of death worldwide, with an increasing burden in lower-income countries. The [World Stroke Organization](https://www.world-stroke.org/news-and-blog/news/wso-global-stroke-fact-sheet-2022) highlights a 70.0% rise in incident strokes and a 43.0% increase in stroke-related deaths from 1990 to 2019, emphasizing the urgent need for effective stroke prevention and management strategies.\n",
    "\n",
    "### 1.2 Problem Statement: Analyzing Lifestyle and Stroke Risk\n",
    "\n",
    "**Problem Statement:** In this project, we aim to explore the relationship between lifestyle choices and the probability of stroke. Our goal is to visualize how healthy and unhealthy habits, alongside other factors, contribute to an individual's risk of experiencing a stroke. This involves analyzing data on various health indicators, such as age, hypertension, heart disease, glucose levels, BMI, and smoking status, to discern patterns that may predict stroke likelihood.\n",
    "\n",
    "**Objective:** By creating a comprehensive visualization of these relationships, we seek to enhance understanding of stroke risk factors and support the development of targeted prevention strategies.\n",
    "\n",
    "### 1.3 Questions and Assumptions\n",
    "\n",
    "- **Questions:**\n",
    "  1. How do different lifestyle choices impact the risk of stroke?\n",
    "  2. Which factors are the most significant predictors of stroke?\n",
    "  3. Can we identify specific patterns or trends among high-risk individuals?\n",
    "  4. Does age has impact on strokes ? \n",
    "  5. Does body mass index and glucose level has impact on strokes ?\n",
    "\n",
    "- **Assumptions:**\n",
    "  1. Lifestyle factors such as diet, exercise, and smoking have a significant impact on stroke risk.\n",
    "  2. Demographic factors like age and gender also play a crucial role in determining stroke likelihood.\n",
    "  3. Data visualization can effectively communicate complex relationships between multiple risk factors and stroke probability.\n",
    "\n",
    "Our approach integrates analysis and visualization techniques to provide insights into how lifestyle choices affect stroke risk. We will use the Stroke Prediction Dataset, ensuring strict adherence to data privacy standards. This project not only aligns with our academic focus in Santé Biotech and Cybersecurity but also addresses a critical healthcare challenge. Through this endeavor, we aim to contribute to the understanding of stroke prevention and the broader discussion on healthcare data analytics and privacy.\n",
    "\n",
    "### 1.4 Formalization of the Problem\n",
    "\n",
    "**Problem Type:** Classification, i.e. considering the input variables, can we predict the likelihood of stroke? (Yes/No)\n",
    "\n",
    "In the current dataset, there are 11 features and one binary target variable (stroke). The features are as follows:\n",
    "\n",
    "| Field             | Description                                                                 |\n",
    "|-------------------|-----------------------------------------------------------------------------|\n",
    "| id                | Unique identifier                                                           |\n",
    "| gender            | \"Male\", \"Female\" or \"Other\"                                                 |\n",
    "| age               | Age of the patient                                                          |\n",
    "| hypertension      | 0 if the patient doesn't have hypertension, 1 if the patient has hypertension |\n",
    "| heart_disease     | 0 if the patient doesn't have any heart diseases, 1 if the patient has a heart disease |\n",
    "| ever_married      | \"No\" or \"Yes\"                                                               |\n",
    "| work_type         | \"children\", \"Govt_job\", \"Never_worked\", \"Private\" or \"Self-employed\"        |\n",
    "| Residence_type    | \"Rural\" or \"Urban\"                                                          |\n",
    "| avg_glucose_level | Average glucose level in blood                                              |\n",
    "| bmi               | Body mass index                                                             |\n",
    "| smoking_status    | \"formerly smoked\", \"never smoked\", \"smokes\" or \"Unknown\"*                   |\n",
    "| stroke            | 1 if the patient had a stroke or 0 if not                                   |\n",
    "\n",
    "\\*Note: \"Unknown\" in smoking_status means that the information is unavailable for this patient\n",
    "\n",
    "### 1.5 Libraries and Tools"
   ]
  },
  {
   "cell_type": "code",
   "execution_count": 24,
   "metadata": {},
   "outputs": [
    {
     "name": "stdout",
     "output_type": "stream",
     "text": [
      "Requirement already satisfied: pandas in c:\\users\\cryte\\hub\\programming\\languages\\python\\python311\\lib\\site-packages (2.1.1)Note: you may need to restart the kernel to use updated packages.\n",
      "\n",
      "Requirement already satisfied: numpy>=1.23.2 in c:\\users\\cryte\\hub\\programming\\languages\\python\\python311\\lib\\site-packages (from pandas) (1.26.0)\n",
      "Requirement already satisfied: python-dateutil>=2.8.2 in c:\\users\\cryte\\appdata\\roaming\\python\\python311\\site-packages (from pandas) (2.8.2)\n",
      "Requirement already satisfied: pytz>=2020.1 in c:\\users\\cryte\\hub\\programming\\languages\\python\\python311\\lib\\site-packages (from pandas) (2023.3.post1)\n",
      "Requirement already satisfied: tzdata>=2022.1 in c:\\users\\cryte\\hub\\programming\\languages\\python\\python311\\lib\\site-packages (from pandas) (2023.3)\n",
      "Requirement already satisfied: six>=1.5 in c:\\users\\cryte\\appdata\\roaming\\python\\python311\\site-packages (from python-dateutil>=2.8.2->pandas) (1.16.0)\n"
     ]
    },
    {
     "name": "stderr",
     "output_type": "stream",
     "text": [
      "\n",
      "[notice] A new release of pip is available: 23.3.1 -> 23.3.2\n",
      "[notice] To update, run: python.exe -m pip install --upgrade pip\n"
     ]
    },
    {
     "name": "stdout",
     "output_type": "stream",
     "text": [
      "Requirement already satisfied: numpy in c:\\users\\cryte\\hub\\programming\\languages\\python\\python311\\lib\\site-packages (1.26.0)\n",
      "Note: you may need to restart the kernel to use updated packages.\n"
     ]
    },
    {
     "name": "stderr",
     "output_type": "stream",
     "text": [
      "\n",
      "[notice] A new release of pip is available: 23.3.1 -> 23.3.2\n",
      "[notice] To update, run: python.exe -m pip install --upgrade pip\n"
     ]
    },
    {
     "name": "stdout",
     "output_type": "stream",
     "text": [
      "Note: you may need to restart the kernel to use updated packages.\n"
     ]
    },
    {
     "name": "stderr",
     "output_type": "stream",
     "text": [
      "ERROR: Could not find a version that satisfies the requirement matplotlib.pyplot (from versions: none)\n",
      "ERROR: No matching distribution found for matplotlib.pyplot\n",
      "\n",
      "[notice] A new release of pip is available: 23.3.1 -> 23.3.2\n",
      "[notice] To update, run: python.exe -m pip install --upgrade pip\n"
     ]
    },
    {
     "name": "stdout",
     "output_type": "stream",
     "text": [
      "Requirement already satisfied: scikit-learn in c:\\users\\cryte\\hub\\programming\\languages\\python\\python311\\lib\\site-packages (1.3.1)\n",
      "Requirement already satisfied: numpy<2.0,>=1.17.3 in c:\\users\\cryte\\hub\\programming\\languages\\python\\python311\\lib\\site-packages (from scikit-learn) (1.26.0)\n",
      "Requirement already satisfied: scipy>=1.5.0 in c:\\users\\cryte\\hub\\programming\\languages\\python\\python311\\lib\\site-packages (from scikit-learn) (1.11.3)\n",
      "Requirement already satisfied: joblib>=1.1.1 in c:\\users\\cryte\\hub\\programming\\languages\\python\\python311\\lib\\site-packages (from scikit-learn) (1.3.2)\n",
      "Requirement already satisfied: threadpoolctl>=2.0.0 in c:\\users\\cryte\\hub\\programming\\languages\\python\\python311\\lib\\site-packages (from scikit-learn) (3.2.0)\n",
      "Note: you may need to restart the kernel to use updated packages.\n"
     ]
    },
    {
     "name": "stderr",
     "output_type": "stream",
     "text": [
      "\n",
      "[notice] A new release of pip is available: 23.3.1 -> 23.3.2\n",
      "[notice] To update, run: python.exe -m pip install --upgrade pip\n"
     ]
    },
    {
     "name": "stdout",
     "output_type": "stream",
     "text": [
      "Requirement already satisfied: xgboost in c:\\users\\cryte\\hub\\programming\\languages\\python\\python311\\lib\\site-packages (2.0.3)\n",
      "Requirement already satisfied: numpy in c:\\users\\cryte\\hub\\programming\\languages\\python\\python311\\lib\\site-packages (from xgboost) (1.26.0)\n",
      "Requirement already satisfied: scipy in c:\\users\\cryte\\hub\\programming\\languages\\python\\python311\\lib\\site-packages (from xgboost) (1.11.3)\n",
      "Note: you may need to restart the kernel to use updated packages.\n"
     ]
    },
    {
     "name": "stderr",
     "output_type": "stream",
     "text": [
      "\n",
      "[notice] A new release of pip is available: 23.3.1 -> 23.3.2\n",
      "[notice] To update, run: python.exe -m pip install --upgrade pip\n"
     ]
    }
   ],
   "source": [
    "%pip install pandas\n",
    "%pip install numpy\n",
    "%pip install matplotlib.pyplot as plt\n",
    "%pip install scikit-learn\n",
    "%pip install xgboost"
   ]
  },
  {
   "cell_type": "code",
   "execution_count": 25,
   "metadata": {},
   "outputs": [],
   "source": [
    "import pandas as pd\n",
    "import numpy as np\n",
    "import matplotlib.pyplot as plt\n",
    "\n",
    "# Machine Learning Helpers\n",
    "from sklearn.preprocessing import (StandardScaler, LabelEncoder, OneHotEncoder)\n",
    "from sklearn.metrics import (confusion_matrix, accuracy_score, roc_auc_score, roc_curve, auc, precision_score, recall_score, f1_score, precision_recall_curve)\n",
    "from sklearn.model_selection import (train_test_split, GridSearchCV, StratifiedKFold, cross_val_score)\n",
    "\n",
    "# Machine Learning Models\n",
    "from sklearn.linear_model import LogisticRegression\n",
    "from sklearn.ensemble import RandomForestClassifier, AdaBoostClassifier, GradientBoostingClassifier \n",
    "from xgboost import XGBClassifier\n",
    "\n",
    "# "
   ]
  },
  {
   "cell_type": "markdown",
   "metadata": {},
   "source": [
    "## 2. Data exploration\n",
    "\n",
    "### 2.1 Loading the data\n",
    "\n",
    "We start by loading the data into a pandas dataframe."
   ]
  },
  {
   "cell_type": "code",
   "execution_count": 26,
   "metadata": {},
   "outputs": [],
   "source": [
    "df = pd.read_csv('./_dataset/healthcare-dataset-stroke-data.csv', sep=',', encoding='utf-8')"
   ]
  },
  {
   "cell_type": "code",
   "execution_count": 27,
   "metadata": {},
   "outputs": [
    {
     "data": {
      "text/html": [
       "<div>\n",
       "<style scoped>\n",
       "    .dataframe tbody tr th:only-of-type {\n",
       "        vertical-align: middle;\n",
       "    }\n",
       "\n",
       "    .dataframe tbody tr th {\n",
       "        vertical-align: top;\n",
       "    }\n",
       "\n",
       "    .dataframe thead th {\n",
       "        text-align: right;\n",
       "    }\n",
       "</style>\n",
       "<table border=\"1\" class=\"dataframe\">\n",
       "  <thead>\n",
       "    <tr style=\"text-align: right;\">\n",
       "      <th></th>\n",
       "      <th>id</th>\n",
       "      <th>gender</th>\n",
       "      <th>age</th>\n",
       "      <th>hypertension</th>\n",
       "      <th>heart_disease</th>\n",
       "      <th>ever_married</th>\n",
       "      <th>work_type</th>\n",
       "      <th>Residence_type</th>\n",
       "      <th>avg_glucose_level</th>\n",
       "      <th>bmi</th>\n",
       "      <th>smoking_status</th>\n",
       "      <th>stroke</th>\n",
       "    </tr>\n",
       "  </thead>\n",
       "  <tbody>\n",
       "    <tr>\n",
       "      <th>0</th>\n",
       "      <td>9046</td>\n",
       "      <td>Male</td>\n",
       "      <td>67.0</td>\n",
       "      <td>0</td>\n",
       "      <td>1</td>\n",
       "      <td>Yes</td>\n",
       "      <td>Private</td>\n",
       "      <td>Urban</td>\n",
       "      <td>228.69</td>\n",
       "      <td>36.6</td>\n",
       "      <td>formerly smoked</td>\n",
       "      <td>1</td>\n",
       "    </tr>\n",
       "    <tr>\n",
       "      <th>1</th>\n",
       "      <td>51676</td>\n",
       "      <td>Female</td>\n",
       "      <td>61.0</td>\n",
       "      <td>0</td>\n",
       "      <td>0</td>\n",
       "      <td>Yes</td>\n",
       "      <td>Self-employed</td>\n",
       "      <td>Rural</td>\n",
       "      <td>202.21</td>\n",
       "      <td>NaN</td>\n",
       "      <td>never smoked</td>\n",
       "      <td>1</td>\n",
       "    </tr>\n",
       "    <tr>\n",
       "      <th>2</th>\n",
       "      <td>31112</td>\n",
       "      <td>Male</td>\n",
       "      <td>80.0</td>\n",
       "      <td>0</td>\n",
       "      <td>1</td>\n",
       "      <td>Yes</td>\n",
       "      <td>Private</td>\n",
       "      <td>Rural</td>\n",
       "      <td>105.92</td>\n",
       "      <td>32.5</td>\n",
       "      <td>never smoked</td>\n",
       "      <td>1</td>\n",
       "    </tr>\n",
       "    <tr>\n",
       "      <th>3</th>\n",
       "      <td>60182</td>\n",
       "      <td>Female</td>\n",
       "      <td>49.0</td>\n",
       "      <td>0</td>\n",
       "      <td>0</td>\n",
       "      <td>Yes</td>\n",
       "      <td>Private</td>\n",
       "      <td>Urban</td>\n",
       "      <td>171.23</td>\n",
       "      <td>34.4</td>\n",
       "      <td>smokes</td>\n",
       "      <td>1</td>\n",
       "    </tr>\n",
       "    <tr>\n",
       "      <th>4</th>\n",
       "      <td>1665</td>\n",
       "      <td>Female</td>\n",
       "      <td>79.0</td>\n",
       "      <td>1</td>\n",
       "      <td>0</td>\n",
       "      <td>Yes</td>\n",
       "      <td>Self-employed</td>\n",
       "      <td>Rural</td>\n",
       "      <td>174.12</td>\n",
       "      <td>24.0</td>\n",
       "      <td>never smoked</td>\n",
       "      <td>1</td>\n",
       "    </tr>\n",
       "  </tbody>\n",
       "</table>\n",
       "</div>"
      ],
      "text/plain": [
       "      id  gender   age  hypertension  heart_disease ever_married  \\\n",
       "0   9046    Male  67.0             0              1          Yes   \n",
       "1  51676  Female  61.0             0              0          Yes   \n",
       "2  31112    Male  80.0             0              1          Yes   \n",
       "3  60182  Female  49.0             0              0          Yes   \n",
       "4   1665  Female  79.0             1              0          Yes   \n",
       "\n",
       "       work_type Residence_type  avg_glucose_level   bmi   smoking_status  \\\n",
       "0        Private          Urban             228.69  36.6  formerly smoked   \n",
       "1  Self-employed          Rural             202.21   NaN     never smoked   \n",
       "2        Private          Rural             105.92  32.5     never smoked   \n",
       "3        Private          Urban             171.23  34.4           smokes   \n",
       "4  Self-employed          Rural             174.12  24.0     never smoked   \n",
       "\n",
       "   stroke  \n",
       "0       1  \n",
       "1       1  \n",
       "2       1  \n",
       "3       1  \n",
       "4       1  "
      ]
     },
     "execution_count": 27,
     "metadata": {},
     "output_type": "execute_result"
    }
   ],
   "source": [
    "df.head()"
   ]
  },
  {
   "cell_type": "markdown",
   "metadata": {},
   "source": [
    "We can already see that some of the rows hold some NaN values ... we will have to deal with that later."
   ]
  },
  {
   "cell_type": "markdown",
   "metadata": {},
   "source": [
    "### 2.2 Data exploration"
   ]
  },
  {
   "cell_type": "markdown",
   "metadata": {},
   "source": [
    "Let's now get a closer look at the data we have."
   ]
  },
  {
   "cell_type": "code",
   "execution_count": 28,
   "metadata": {},
   "outputs": [
    {
     "name": "stdout",
     "output_type": "stream",
     "text": [
      "<class 'pandas.core.frame.DataFrame'>\n",
      "RangeIndex: 5110 entries, 0 to 5109\n",
      "Data columns (total 12 columns):\n",
      " #   Column             Non-Null Count  Dtype  \n",
      "---  ------             --------------  -----  \n",
      " 0   id                 5110 non-null   int64  \n",
      " 1   gender             5110 non-null   object \n",
      " 2   age                5110 non-null   float64\n",
      " 3   hypertension       5110 non-null   int64  \n",
      " 4   heart_disease      5110 non-null   int64  \n",
      " 5   ever_married       5110 non-null   object \n",
      " 6   work_type          5110 non-null   object \n",
      " 7   Residence_type     5110 non-null   object \n",
      " 8   avg_glucose_level  5110 non-null   float64\n",
      " 9   bmi                4909 non-null   float64\n",
      " 10  smoking_status     5110 non-null   object \n",
      " 11  stroke             5110 non-null   int64  \n",
      "dtypes: float64(3), int64(4), object(5)\n",
      "memory usage: 479.2+ KB\n"
     ]
    }
   ],
   "source": [
    "df.info()"
   ]
  },
  {
   "cell_type": "code",
   "execution_count": 29,
   "metadata": {},
   "outputs": [
    {
     "data": {
      "text/html": [
       "<div>\n",
       "<style scoped>\n",
       "    .dataframe tbody tr th:only-of-type {\n",
       "        vertical-align: middle;\n",
       "    }\n",
       "\n",
       "    .dataframe tbody tr th {\n",
       "        vertical-align: top;\n",
       "    }\n",
       "\n",
       "    .dataframe thead th {\n",
       "        text-align: right;\n",
       "    }\n",
       "</style>\n",
       "<table border=\"1\" class=\"dataframe\">\n",
       "  <thead>\n",
       "    <tr style=\"text-align: right;\">\n",
       "      <th></th>\n",
       "      <th>id</th>\n",
       "      <th>age</th>\n",
       "      <th>hypertension</th>\n",
       "      <th>heart_disease</th>\n",
       "      <th>avg_glucose_level</th>\n",
       "      <th>bmi</th>\n",
       "      <th>stroke</th>\n",
       "    </tr>\n",
       "  </thead>\n",
       "  <tbody>\n",
       "    <tr>\n",
       "      <th>count</th>\n",
       "      <td>5110.00</td>\n",
       "      <td>5110.00</td>\n",
       "      <td>5110.0</td>\n",
       "      <td>5110.00</td>\n",
       "      <td>5110.00</td>\n",
       "      <td>4909.00</td>\n",
       "      <td>5110.00</td>\n",
       "    </tr>\n",
       "    <tr>\n",
       "      <th>mean</th>\n",
       "      <td>36517.83</td>\n",
       "      <td>43.23</td>\n",
       "      <td>0.1</td>\n",
       "      <td>0.05</td>\n",
       "      <td>106.15</td>\n",
       "      <td>28.89</td>\n",
       "      <td>0.05</td>\n",
       "    </tr>\n",
       "    <tr>\n",
       "      <th>std</th>\n",
       "      <td>21161.72</td>\n",
       "      <td>22.61</td>\n",
       "      <td>0.3</td>\n",
       "      <td>0.23</td>\n",
       "      <td>45.28</td>\n",
       "      <td>7.85</td>\n",
       "      <td>0.22</td>\n",
       "    </tr>\n",
       "    <tr>\n",
       "      <th>min</th>\n",
       "      <td>67.00</td>\n",
       "      <td>0.08</td>\n",
       "      <td>0.0</td>\n",
       "      <td>0.00</td>\n",
       "      <td>55.12</td>\n",
       "      <td>10.30</td>\n",
       "      <td>0.00</td>\n",
       "    </tr>\n",
       "    <tr>\n",
       "      <th>25%</th>\n",
       "      <td>17741.25</td>\n",
       "      <td>25.00</td>\n",
       "      <td>0.0</td>\n",
       "      <td>0.00</td>\n",
       "      <td>77.24</td>\n",
       "      <td>23.50</td>\n",
       "      <td>0.00</td>\n",
       "    </tr>\n",
       "    <tr>\n",
       "      <th>50%</th>\n",
       "      <td>36932.00</td>\n",
       "      <td>45.00</td>\n",
       "      <td>0.0</td>\n",
       "      <td>0.00</td>\n",
       "      <td>91.88</td>\n",
       "      <td>28.10</td>\n",
       "      <td>0.00</td>\n",
       "    </tr>\n",
       "    <tr>\n",
       "      <th>75%</th>\n",
       "      <td>54682.00</td>\n",
       "      <td>61.00</td>\n",
       "      <td>0.0</td>\n",
       "      <td>0.00</td>\n",
       "      <td>114.09</td>\n",
       "      <td>33.10</td>\n",
       "      <td>0.00</td>\n",
       "    </tr>\n",
       "    <tr>\n",
       "      <th>max</th>\n",
       "      <td>72940.00</td>\n",
       "      <td>82.00</td>\n",
       "      <td>1.0</td>\n",
       "      <td>1.00</td>\n",
       "      <td>271.74</td>\n",
       "      <td>97.60</td>\n",
       "      <td>1.00</td>\n",
       "    </tr>\n",
       "  </tbody>\n",
       "</table>\n",
       "</div>"
      ],
      "text/plain": [
       "             id      age  hypertension  heart_disease  avg_glucose_level  \\\n",
       "count   5110.00  5110.00        5110.0        5110.00            5110.00   \n",
       "mean   36517.83    43.23           0.1           0.05             106.15   \n",
       "std    21161.72    22.61           0.3           0.23              45.28   \n",
       "min       67.00     0.08           0.0           0.00              55.12   \n",
       "25%    17741.25    25.00           0.0           0.00              77.24   \n",
       "50%    36932.00    45.00           0.0           0.00              91.88   \n",
       "75%    54682.00    61.00           0.0           0.00             114.09   \n",
       "max    72940.00    82.00           1.0           1.00             271.74   \n",
       "\n",
       "           bmi   stroke  \n",
       "count  4909.00  5110.00  \n",
       "mean     28.89     0.05  \n",
       "std       7.85     0.22  \n",
       "min      10.30     0.00  \n",
       "25%      23.50     0.00  \n",
       "50%      28.10     0.00  \n",
       "75%      33.10     0.00  \n",
       "max      97.60     1.00  "
      ]
     },
     "execution_count": 29,
     "metadata": {},
     "output_type": "execute_result"
    }
   ],
   "source": [
    "# Stats of numerical features\n",
    "round(df.describe(), 2)"
   ]
  },
  {
   "cell_type": "code",
   "execution_count": 30,
   "metadata": {},
   "outputs": [
    {
     "data": {
      "text/html": [
       "<div>\n",
       "<style scoped>\n",
       "    .dataframe tbody tr th:only-of-type {\n",
       "        vertical-align: middle;\n",
       "    }\n",
       "\n",
       "    .dataframe tbody tr th {\n",
       "        vertical-align: top;\n",
       "    }\n",
       "\n",
       "    .dataframe thead th {\n",
       "        text-align: right;\n",
       "    }\n",
       "</style>\n",
       "<table border=\"1\" class=\"dataframe\">\n",
       "  <thead>\n",
       "    <tr style=\"text-align: right;\">\n",
       "      <th></th>\n",
       "      <th>gender</th>\n",
       "      <th>ever_married</th>\n",
       "      <th>work_type</th>\n",
       "      <th>Residence_type</th>\n",
       "      <th>smoking_status</th>\n",
       "    </tr>\n",
       "  </thead>\n",
       "  <tbody>\n",
       "    <tr>\n",
       "      <th>count</th>\n",
       "      <td>5110</td>\n",
       "      <td>5110</td>\n",
       "      <td>5110</td>\n",
       "      <td>5110</td>\n",
       "      <td>5110</td>\n",
       "    </tr>\n",
       "    <tr>\n",
       "      <th>unique</th>\n",
       "      <td>3</td>\n",
       "      <td>2</td>\n",
       "      <td>5</td>\n",
       "      <td>2</td>\n",
       "      <td>4</td>\n",
       "    </tr>\n",
       "    <tr>\n",
       "      <th>top</th>\n",
       "      <td>Female</td>\n",
       "      <td>Yes</td>\n",
       "      <td>Private</td>\n",
       "      <td>Urban</td>\n",
       "      <td>never smoked</td>\n",
       "    </tr>\n",
       "    <tr>\n",
       "      <th>freq</th>\n",
       "      <td>2994</td>\n",
       "      <td>3353</td>\n",
       "      <td>2925</td>\n",
       "      <td>2596</td>\n",
       "      <td>1892</td>\n",
       "    </tr>\n",
       "  </tbody>\n",
       "</table>\n",
       "</div>"
      ],
      "text/plain": [
       "        gender ever_married work_type Residence_type smoking_status\n",
       "count     5110         5110      5110           5110           5110\n",
       "unique       3            2         5              2              4\n",
       "top     Female          Yes   Private          Urban   never smoked\n",
       "freq      2994         3353      2925           2596           1892"
      ]
     },
     "execution_count": 30,
     "metadata": {},
     "output_type": "execute_result"
    }
   ],
   "source": [
    "# Stats of categorical features\n",
    "round(df.describe(include=['O']), 2)"
   ]
  },
  {
   "cell_type": "markdown",
   "metadata": {},
   "source": [
    "Then, let's analyze the distribution of the BMI values in the dataset, since it is the feature that have some missing values. It will help us to decide how to deal with the missing values, by choosing either to replace the missing values by the mean or the median of the BMI values.\n",
    "\n",
    "If the distribution is centered around the mean, we will use the mean to replace the missing values. However, if they are some outliers, we will use the median to not introduce some bias in the data."
   ]
  },
  {
   "cell_type": "code",
   "execution_count": 31,
   "metadata": {},
   "outputs": [
    {
     "data": {
      "image/png": "[encoded data removed]",
      "text/plain": [
       "<Figure size 640x480 with 1 Axes>"
      ]
     },
     "metadata": {},
     "output_type": "display_data"
    }
   ],
   "source": [
    "# Create a histogram of the 'bmi' column\n",
    "plt.hist(df['bmi'].dropna(), bins=30, edgecolor='black')\n",
    "\n",
    "# Add the mean and median lines\n",
    "plt.axvline(df['bmi'].mean(), color='red', linestyle='dashed', linewidth=1)\n",
    "plt.axvline(df['bmi'].median(), color='green', linestyle='dashed', linewidth=1)\n",
    "\n",
    "# Add a legend\n",
    "plt.legend({'Mean':df['bmi'].mean(),'Median':df['bmi'].median()})\n",
    "\n",
    "# Add a title and labels \n",
    "plt.title(\"BMI Distribution\")\n",
    "plt.xlabel(\"BMI\")\n",
    "plt.ylabel(\"Frequency\")\n",
    "\n",
    "# Display the plot\n",
    "plt.show()"
   ]
  },
  {
   "cell_type": "markdown",
   "metadata": {},
   "source": [
    "Both the mean and the median are close to each other, so we can use the mean to replace the missing values."
   ]
  },
  {
   "cell_type": "markdown",
   "metadata": {},
   "source": [
    "From our analysis, we can draw several conclusions:\n",
    "\n",
    "- The dataset contains **numerical**, **categorical**, and **binary** data. \n",
    "    - **Numerical data** includes `age`, `avg_glucose_level`, and `bmi`.\n",
    "    - **Categorical data** includes `gender`, `ever_married`, `work_type`, `Residence_type`, and `smoking_status`.\n",
    "    - **Binary data** includes `hypertension`, `heart_disease`, and `stroke`.\n",
    "\n",
    "- **Categorical data** should be our focus as it will be the most interesting to visualize.\n",
    "\n",
    "- The `stroke` column, which is binary (0 or 1), is our **target variable**.\n",
    "\n",
    "- `BMI` (Body Mass Index) is a numerical value with some missing data. Instead of dropping the rows with missing data, we should fill them with the **mean value** of the column, as both the mean and the median are close to each other. \n",
    "\n",
    "- `BMI` can trace back to someone's personal information if correlated with other data. To address this, we'll implement the model with **continuous BMI**, and then with a **discretized BMI** to see if it changes the results drastically."
   ]
  },
  {
   "cell_type": "markdown",
   "metadata": {},
   "source": [
    "## 2.3 Filling missing values\n",
    "\n",
    "We will now fill the missing values in the `bmi` column with the mean value of the column."
   ]
  },
  {
   "cell_type": "code",
   "execution_count": 32,
   "metadata": {},
   "outputs": [
    {
     "data": {
      "text/plain": [
       "id                   0\n",
       "gender               0\n",
       "age                  0\n",
       "hypertension         0\n",
       "heart_disease        0\n",
       "ever_married         0\n",
       "work_type            0\n",
       "Residence_type       0\n",
       "avg_glucose_level    0\n",
       "bmi                  0\n",
       "smoking_status       0\n",
       "stroke               0\n",
       "dtype: int64"
      ]
     },
     "execution_count": 32,
     "metadata": {},
     "output_type": "execute_result"
    }
   ],
   "source": [
    "# Use a simple imputer to fill in the missing values with the median value of the dataset\n",
    "from sklearn.impute import SimpleImputer\n",
    "imputer = SimpleImputer(strategy='median')\n",
    "df['bmi'] = imputer.fit_transform(df[['bmi']])\n",
    "\n",
    "df.isnull().sum()"
   ]
  },
  {
   "cell_type": "markdown",
   "metadata": {},
   "source": [
    "## 3. Data analysis and visualization : solutions and arguments for the choice of the two algorithms"
   ]
  },
  {
   "cell_type": "markdown",
   "metadata": {},
   "source": [
    "### 3.1 Distribution of target variable : Healthy vs Stroke "
   ]
  },
  {
   "cell_type": "code",
   "execution_count": 72,
   "metadata": {},
   "outputs": [
    {
     "data": {
      "image/png": "[encoded data removed]",
      "text/plain": [
       "<Figure size 1600x500 with 1 Axes>"
      ]
     },
     "metadata": {},
     "output_type": "display_data"
    }
   ],
   "source": [
    "# Count the number of occurrences of each unique value in the 'stroke' column\n",
    "x = df['stroke'].value_counts()\n",
    "\n",
    "# Calculate the proportion of stroke cases in the dataset\n",
    "stroke_proportion = round(x[1]/x[0], 2)*100\n",
    "\n",
    "# Create a bar plot\n",
    "fig, ax = plt.subplots()\n",
    "\n",
    "# Plot the counts\n",
    "ax.barh(x.index, x.values, color=['#299617', '#ff2400'])\n",
    "\n",
    "# Label the y-axis with the unique values in the 'stroke' column\n",
    "ax.set_yticks(x.index)\n",
    "ax.set_yticklabels(['Healthy', 'Stroke'])\n",
    "\n",
    "# Show the percentage above the bars\n",
    "for i, v in enumerate(x.values):\n",
    "    if i == 1:  # If the current bar corresponds to stroke cases\n",
    "        ax.text(v + 3, i, f\" {stroke_proportion}%\", color='black', fontweight='bold')\n",
    "    else:  # If the current bar corresponds to healthy cases\n",
    "        ax.text(v + 3, i, f\" {100 - stroke_proportion}%\", color='black', fontweight='bold')\n",
    "\n",
    "# Hide the x-axis\n",
    "ax.get_xaxis().set_visible(False)\n",
    "\n",
    "# Set the title\n",
    "ax.set_title('Percentage of People Having Strokes')\n",
    "\n",
    "# Increase the size to fit the text\n",
    "fig.set_size_inches(16, 5)\n",
    "\n",
    "# Show the plot\n",
    "plt.show()"
   ]
  },
  {
   "cell_type": "markdown",
   "metadata": {},
   "source": [
    "We can see about that 5 patient over 1000 has stroke. This is a heavy **umbalanced** in the dataset, that we'll have to take into consideration when we'll train our model.\n"
   ]
  },
  {
   "cell_type": "markdown",
   "metadata": {},
   "source": [
    "## 4. Cybersecurity: Data Privacy and Ethics, implementing anonymization techniques\n",
    "\n",
    "### 3.1 Data Privacy \n",
    "\n",
    "In today's digital world, data privacy is a critical issue. As we increasingly\n",
    "rely on technology to manage our lives, we must ensure that our data is\n",
    "protected from misuse. This is especially important in the healthcare sector,\n",
    "where sensitive information is at risk of being compromised. Both in the US and\n",
    "the EU, there are strict regulations in place to protect patient data. \n",
    "\n",
    "In the US, the [Health Insurance Portability and Accountability Act (HIPAA)](https://www.hhs.gov/hipaa/for-professionals/privacy/laws-regulations/index.html) establishes national standards for the protection of health information. In the EU, the [General Data Protection Regulation (GDPR)](https://commission.europa.eu/law/law-topic/data-protection/data-protection-eu_en) sets guidelines for the collection and processing of personal data. These regulations are designed to safeguard patient privacy and prevent unauthorized access to sensitive information. \n",
    "\n",
    "### 3.2 Anonymization Techniques\n",
    "\n",
    "In this project, we will use the Stroke Prediction Dataset, which contains personal data that can be viewed as sensitive. As demonstrated by the study by [Sweeney, L. (2000)](https://privacytools.seas.harvard.edu/sites/projects.iq.harvard.edu/files/privacytools/files/paper1.pdf) on the re-identification of individuals in the U.S. population, it is possible to identify 87.1\\% of the population based only on {5-digit ZIP, gender, date of birth}. Therefore, we must take steps to protect the privacy of the individuals in our dataset, since our features can be used to identify them in a similar way.\n",
    "\n",
    "To do so, we will use the following anonymization techniques:\n",
    "- **Generalization:** We will replace the age and glucose level values with age ranges and glucose level ranges, respectively. This will reduce the granularity of the data, making it more difficult to identify individuals.\n",
    "- **Hashing:** We will hash the value of the ID field, which will prevent the identification of individuals based on this feature.\n",
    "- **Differential Privacy:** see below... https://en.wikipedia.org/wiki/Differential_privacy https://www.kaggle.com/code/samuelguebo/implementing-privacy-preservation-through-python\n",
    "\n",
    "One of the biggest drawback of privacy is that it can limit the usefulness of the data. It is always a trade-off between privacy and accuracy. In this project, we will use the [Differential Privacy](https://www.cis.upenn.edu/~aaroth/Papers/privacybook.pdf) technique to protect the privacy of the individuals in our dataset while still allowing for meaningful analysis by adjusting the amount of noise $\\epsilon$ added to the data. \n",
    "\n",
    "We'll compare the accuracy of our results **with and without differential privacy to determine the optimal value of $\\epsilon$.**\n",
    " \n",
    "##### what will will do (temporary section to work with)\n",
    "Implementing differential privacy in the Stroke Prediction Dataset involves adding controlled noise to the data to protect individual privacy while still allowing for meaningful analysis. Differential privacy is a technique that ensures the output of a query on a dataset does not reveal whether any individual's data was included in the input.\n",
    "\n",
    "Here's a step-by-step approach to implement differential privacy:\n",
    "\n",
    "1. **Understanding the Dataset**: First, get a thorough understanding of the dataset. Identify the types of data (categorical, numerical, etc.) and understand their distributions and importance in stroke prediction.\n",
    "\n",
    "2. **Choosing a Differential Privacy Mechanism**: Select an appropriate differential privacy mechanism. The most common mechanisms are the Laplace mechanism (for numerical data) and the Exponential mechanism (for categorical data). The choice depends on the data type and the queries you intend to perform.\n",
    "\n",
    "3. **Setting the Privacy Budget (ε)**: The privacy budget, often denoted as ε (epsilon), is a parameter that determines the level of privacy. A lower ε means higher privacy (and more noise), but it can reduce the utility of the data. Choose an ε that balances privacy with the need for accurate analysis.\n",
    "\n",
    "4. **Applying Noise to the Data**:\n",
    "   - For numerical data (like age, avg_glucose_level, and bmi), you can add noise drawn from a Laplace distribution. The amount of noise depends on the sensitivity of the query and your chosen ε.\n",
    "   - For categorical data (like gender, work_type, and smoking_status), use the Exponential mechanism to randomly choose an output based on the probability distribution that depends on the privacy parameter and the utility of each outcome.\n",
    "\n",
    "5. **Testing and Validation**: After applying differential privacy, it's essential to test the dataset. Check if the privacy guarantees hold and if the dataset still provides meaningful insights for stroke prediction. This might involve comparing the results of analyses on the original and the differentially private dataset.\n",
    "\n",
    "6. **Implementing in Machine Learning Models**: When using the differentially private dataset for machine learning, be aware that the added noise might impact the model's accuracy. It may require tuning the models differently than you would with the original data.\n",
    "\n",
    "7. **Ongoing Monitoring and Adjustment**: Differential privacy implementation isn't a one-time process. It requires continuous monitoring and adjustments based on the outcomes of your analyses and the evolving requirements of your project.\n",
    "\n",
    "Remember, the key challenge in implementing differential privacy is balancing privacy protection with the usefulness of the data. This often requires experimentation and fine-tuning to get right.\n"
   ]
  },
  {
   "cell_type": "markdown",
   "metadata": {},
   "source": [
    "## 5. Experimentation and discussion of the results"
   ]
  },
  {
   "cell_type": "markdown",
   "metadata": {},
   "source": [
    "### 5.1 Discretization of sensitive numerical data\n",
    "\n",
    "Let's try to discretize the `age`, `avg_glucose_level`, and `bmi` columns to see if it changes the results drastically.\n",
    "\n",
    "For discretization, we will use the basis of medical standards. \n",
    "- [Assessing Your Weight](https://www.cdc.gov/healthyweight/assessing/index.html)\n",
    "- [Blood Sugar Levels: What is Normal, Low or High, Target Ranges & More [w/ Downloadable Chart]](https://agamatrix.com/blog/normal-blood-sugar-level-chart/)\n",
    "- [Age – Physical Description](https://kidspicturedictionary.com/english-through-pictures/people-english-through-pictures/age-physical-description/)\n",
    "\n",
    "The specific ranges used for discretization are as follows:\n",
    "\n",
    "**Age Ranges:**\n",
    "\n",
    "| Age | Value |\n",
    "|-----|-------|\n",
    "| 0-13 | Child | \n",
    "| 13-18 | Teenager |\n",
    "| 18-45 | Adult |\n",
    "| 45-60 | Middle-Aged | \n",
    "| 60+ | Elderly |\n",
    "\n",
    "---\n",
    "\n",
    "**Glucose Level Ranges:**\n",
    "\n",
    "| Glucose Level (mg/dL) | Value |\n",
    "|---------------|-------|\n",
    "| 0-90 | Low |\n",
    "| 90-160 | Normal |\n",
    "| 160-230 | High |\n",
    "| 230-300 | Very High |\n",
    "\n",
    "---\n",
    "\n",
    "**BMI Ranges:**\n",
    "\n",
    "| BMI | Value |\n",
    "|-----|-------|\n",
    "| 0-18.5 | Underweight |\n",
    "| 18.5-25 | Normal |\n",
    "| 25-30 | Overweight |\n",
    "| 30-35 | Obese |\n",
    "\n",
    "\n"
   ]
  },
  {
   "cell_type": "code",
   "execution_count": 13,
   "metadata": {},
   "outputs": [],
   "source": [
    "# Binning of the numerical features \n",
    "\n",
    "df['age'] = pd.cut(df['age'], bins=[0, 13, 18, 45, 60, 1000], labels=['Child', 'Teenager', 'Adult', 'Middle-Aged', 'Elderly'])\n",
    "df['avg_glucose_level'] = pd.cut(df['avg_glucose_level'], bins=[0, 90, 160, 230, 300], labels=['Low', 'Normal', 'High', 'Very High'])\n",
    "df['bmi'] = pd.cut(df['bmi'], bins=[0, 18.5, 25, 30, 1000], labels=['Underweight', 'Normal', 'Overweight', 'Obese'])"
   ]
  },
  {
   "cell_type": "code",
   "execution_count": 14,
   "metadata": {},
   "outputs": [
    {
     "data": {
      "text/html": [
       "<div>\n",
       "<style scoped>\n",
       "    .dataframe tbody tr th:only-of-type {\n",
       "        vertical-align: middle;\n",
       "    }\n",
       "\n",
       "    .dataframe tbody tr th {\n",
       "        vertical-align: top;\n",
       "    }\n",
       "\n",
       "    .dataframe thead th {\n",
       "        text-align: right;\n",
       "    }\n",
       "</style>\n",
       "<table border=\"1\" class=\"dataframe\">\n",
       "  <thead>\n",
       "    <tr style=\"text-align: right;\">\n",
       "      <th></th>\n",
       "      <th>id</th>\n",
       "      <th>gender</th>\n",
       "      <th>age</th>\n",
       "      <th>hypertension</th>\n",
       "      <th>heart_disease</th>\n",
       "      <th>ever_married</th>\n",
       "      <th>work_type</th>\n",
       "      <th>Residence_type</th>\n",
       "      <th>avg_glucose_level</th>\n",
       "      <th>bmi</th>\n",
       "      <th>smoking_status</th>\n",
       "      <th>stroke</th>\n",
       "    </tr>\n",
       "  </thead>\n",
       "  <tbody>\n",
       "    <tr>\n",
       "      <th>0</th>\n",
       "      <td>9046</td>\n",
       "      <td>Male</td>\n",
       "      <td>Elderly</td>\n",
       "      <td>0</td>\n",
       "      <td>1</td>\n",
       "      <td>Yes</td>\n",
       "      <td>Private</td>\n",
       "      <td>Urban</td>\n",
       "      <td>High</td>\n",
       "      <td>Obese</td>\n",
       "      <td>formerly smoked</td>\n",
       "      <td>1</td>\n",
       "    </tr>\n",
       "    <tr>\n",
       "      <th>1</th>\n",
       "      <td>51676</td>\n",
       "      <td>Female</td>\n",
       "      <td>Elderly</td>\n",
       "      <td>0</td>\n",
       "      <td>0</td>\n",
       "      <td>Yes</td>\n",
       "      <td>Self-employed</td>\n",
       "      <td>Rural</td>\n",
       "      <td>High</td>\n",
       "      <td>Overweight</td>\n",
       "      <td>never smoked</td>\n",
       "      <td>1</td>\n",
       "    </tr>\n",
       "    <tr>\n",
       "      <th>2</th>\n",
       "      <td>31112</td>\n",
       "      <td>Male</td>\n",
       "      <td>Elderly</td>\n",
       "      <td>0</td>\n",
       "      <td>1</td>\n",
       "      <td>Yes</td>\n",
       "      <td>Private</td>\n",
       "      <td>Rural</td>\n",
       "      <td>Normal</td>\n",
       "      <td>Obese</td>\n",
       "      <td>never smoked</td>\n",
       "      <td>1</td>\n",
       "    </tr>\n",
       "    <tr>\n",
       "      <th>3</th>\n",
       "      <td>60182</td>\n",
       "      <td>Female</td>\n",
       "      <td>Middle-Aged</td>\n",
       "      <td>0</td>\n",
       "      <td>0</td>\n",
       "      <td>Yes</td>\n",
       "      <td>Private</td>\n",
       "      <td>Urban</td>\n",
       "      <td>High</td>\n",
       "      <td>Obese</td>\n",
       "      <td>smokes</td>\n",
       "      <td>1</td>\n",
       "    </tr>\n",
       "    <tr>\n",
       "      <th>4</th>\n",
       "      <td>1665</td>\n",
       "      <td>Female</td>\n",
       "      <td>Elderly</td>\n",
       "      <td>1</td>\n",
       "      <td>0</td>\n",
       "      <td>Yes</td>\n",
       "      <td>Self-employed</td>\n",
       "      <td>Rural</td>\n",
       "      <td>High</td>\n",
       "      <td>Normal</td>\n",
       "      <td>never smoked</td>\n",
       "      <td>1</td>\n",
       "    </tr>\n",
       "  </tbody>\n",
       "</table>\n",
       "</div>"
      ],
      "text/plain": [
       "      id  gender          age  hypertension  heart_disease ever_married  \\\n",
       "0   9046    Male      Elderly             0              1          Yes   \n",
       "1  51676  Female      Elderly             0              0          Yes   \n",
       "2  31112    Male      Elderly             0              1          Yes   \n",
       "3  60182  Female  Middle-Aged             0              0          Yes   \n",
       "4   1665  Female      Elderly             1              0          Yes   \n",
       "\n",
       "       work_type Residence_type avg_glucose_level         bmi  \\\n",
       "0        Private          Urban              High       Obese   \n",
       "1  Self-employed          Rural              High  Overweight   \n",
       "2        Private          Rural            Normal       Obese   \n",
       "3        Private          Urban              High       Obese   \n",
       "4  Self-employed          Rural              High      Normal   \n",
       "\n",
       "    smoking_status  stroke  \n",
       "0  formerly smoked       1  \n",
       "1     never smoked       1  \n",
       "2     never smoked       1  \n",
       "3           smokes       1  \n",
       "4     never smoked       1  "
      ]
     },
     "execution_count": 14,
     "metadata": {},
     "output_type": "execute_result"
    }
   ],
   "source": [
    "df.head()"
   ]
  },
  {
   "cell_type": "markdown",
   "metadata": {},
   "source": [
    "## 6. Group assessment (what you have learned, points for improvement, etc.)"
   ]
  }
 ],
 "metadata": {
  "kernelspec": {
   "display_name": "base",
   "language": "python",
   "name": "python3"
  },
  "language_info": {
   "codemirror_mode": {
    "name": "ipython",
    "version": 3
   },
   "file_extension": ".py",
   "mimetype": "text/x-python",
   "name": "python",
   "nbconvert_exporter": "python",
   "pygments_lexer": "ipython3",
   "version": "3.11.5"
  }
 },
 "nbformat": 4,
 "nbformat_minor": 2
}
